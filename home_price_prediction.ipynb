{
  "cells": [
    {
      "cell_type": "markdown",
      "metadata": {
        "id": "view-in-github",
        "colab_type": "text"
      },
      "source": [
        "<a href=\"https://colab.research.google.com/github/tanyasen930/my-java/blob/main/home_price_prediction.ipynb\" target=\"_parent\"><img src=\"https://colab.research.google.com/assets/colab-badge.svg\" alt=\"Open In Colab\"/></a>"
      ]
    },
    {
      "cell_type": "code",
      "execution_count": null,
      "metadata": {
        "id": "DrlzZCN2yZ9i"
      },
      "outputs": [],
      "source": [
        "import numpy as np\n",
        "import pandas as pd\n",
        "from matplotlib import pyplot as plt # this library is used for creating graphs\n",
        "import seaborn as sns # these 2 library used for creating graphs and chaf\n",
        "from sklearn.model_selection import train_test_split\n",
        "from sklearn.linear_model import LogisticRegression\n",
        "from sklearn.metrics import accuracy_score\n",
        "from sklearn.naive_bayes import GaussianNB\n",
        "from sklearn.naive_bayes import MultinomialNB\n",
        "from sklearn.naive_bayes import BernoulliNB"
      ]
    },
    {
      "cell_type": "code",
      "execution_count": null,
      "metadata": {
        "id": "GC_V4PFzyvyA"
      },
      "outputs": [],
      "source": [
        "data = pd.read_csv('/content/drive/MyDrive/home prediction.ipynb')\n"
      ]
    },
    {
      "cell_type": "code",
      "execution_count": null,
      "metadata": {
        "colab": {
          "base_uri": "https://localhost:8080/",
          "height": 150
        },
        "id": "Bdb9lr93zAN4",
        "outputId": "7b708dbd-753f-4710-8390-9d402ee6c704"
      },
      "outputs": [
        {
          "output_type": "execute_result",
          "data": {
            "text/plain": [
              "Empty DataFrame\n",
              "Columns: [{\"nbformat\":4, nbformat_minor:0, metadata:{\"colab\":{\"provenance\":[], mount_file_id:\"1DD6YzGmwvgvRzLVnvJZ-p_Q8c5NmgYm7\", authorship_tag:\"ABX9TyMCi3btHXmZixSUgB/354U0\"}, kernelspec:{\"name\":\"python3\", display_name:\"Python 3\"}, language_info:{\"name\":\"python\"}}, cells:[{\"cell_type\":\"code\", execution_count:null, metadata:{\"id\":\"xS-eAQCFTQGL\"}, outputs:[], source:[]}, {\"cell_type\":\"code\", source:[\"import numpy as np\\n\", import pandas as pd\\n], metadata:{\"id\":\"wU3kkk4sTWSJ\", executionInfo:{\"status\":\"ok\", timestamp:1728024997389, user_tz:-330, elapsed:414, user:{\"displayName\":\"Tanya Sen\", userId:\"09312349768997804066\"}}}, execution_count:2, outputs:[]}, {\"cell_type\":\"code\".1, source:[], metadata:{\"id\":\"YuLpVReoZRNK\"}, execution_count:null.1, outputs:[]}]}]\n",
              "Index: []\n",
              "\n",
              "[0 rows x 30 columns]"
            ],
            "text/html": [
              "\n",
              "  <div id=\"df-554be9a5-6715-4756-95ec-6b3ec07f1f5b\" class=\"colab-df-container\">\n",
              "    <div>\n",
              "<style scoped>\n",
              "    .dataframe tbody tr th:only-of-type {\n",
              "        vertical-align: middle;\n",
              "    }\n",
              "\n",
              "    .dataframe tbody tr th {\n",
              "        vertical-align: top;\n",
              "    }\n",
              "\n",
              "    .dataframe thead th {\n",
              "        text-align: right;\n",
              "    }\n",
              "</style>\n",
              "<table border=\"1\" class=\"dataframe\">\n",
              "  <thead>\n",
              "    <tr style=\"text-align: right;\">\n",
              "      <th></th>\n",
              "      <th>{\"nbformat\":4</th>\n",
              "      <th>nbformat_minor:0</th>\n",
              "      <th>metadata:{\"colab\":{\"provenance\":[]</th>\n",
              "      <th>mount_file_id:\"1DD6YzGmwvgvRzLVnvJZ-p_Q8c5NmgYm7\"</th>\n",
              "      <th>authorship_tag:\"ABX9TyMCi3btHXmZixSUgB/354U0\"}</th>\n",
              "      <th>kernelspec:{\"name\":\"python3\"</th>\n",
              "      <th>display_name:\"Python 3\"}</th>\n",
              "      <th>language_info:{\"name\":\"python\"}}</th>\n",
              "      <th>cells:[{\"cell_type\":\"code\"</th>\n",
              "      <th>execution_count:null</th>\n",
              "      <th>...</th>\n",
              "      <th>elapsed:414</th>\n",
              "      <th>user:{\"displayName\":\"Tanya Sen\"</th>\n",
              "      <th>userId:\"09312349768997804066\"}}}</th>\n",
              "      <th>execution_count:2</th>\n",
              "      <th>outputs:[]}</th>\n",
              "      <th>{\"cell_type\":\"code\".1</th>\n",
              "      <th>source:[]</th>\n",
              "      <th>metadata:{\"id\":\"YuLpVReoZRNK\"}</th>\n",
              "      <th>execution_count:null.1</th>\n",
              "      <th>outputs:[]}]}</th>\n",
              "    </tr>\n",
              "  </thead>\n",
              "  <tbody>\n",
              "  </tbody>\n",
              "</table>\n",
              "<p>0 rows × 30 columns</p>\n",
              "</div>\n",
              "    <div class=\"colab-df-buttons\">\n",
              "\n",
              "  <div class=\"colab-df-container\">\n",
              "    <button class=\"colab-df-convert\" onclick=\"convertToInteractive('df-554be9a5-6715-4756-95ec-6b3ec07f1f5b')\"\n",
              "            title=\"Convert this dataframe to an interactive table.\"\n",
              "            style=\"display:none;\">\n",
              "\n",
              "  <svg xmlns=\"http://www.w3.org/2000/svg\" height=\"24px\" viewBox=\"0 -960 960 960\">\n",
              "    <path d=\"M120-120v-720h720v720H120Zm60-500h600v-160H180v160Zm220 220h160v-160H400v160Zm0 220h160v-160H400v160ZM180-400h160v-160H180v160Zm440 0h160v-160H620v160ZM180-180h160v-160H180v160Zm440 0h160v-160H620v160Z\"/>\n",
              "  </svg>\n",
              "    </button>\n",
              "\n",
              "  <style>\n",
              "    .colab-df-container {\n",
              "      display:flex;\n",
              "      gap: 12px;\n",
              "    }\n",
              "\n",
              "    .colab-df-convert {\n",
              "      background-color: #E8F0FE;\n",
              "      border: none;\n",
              "      border-radius: 50%;\n",
              "      cursor: pointer;\n",
              "      display: none;\n",
              "      fill: #1967D2;\n",
              "      height: 32px;\n",
              "      padding: 0 0 0 0;\n",
              "      width: 32px;\n",
              "    }\n",
              "\n",
              "    .colab-df-convert:hover {\n",
              "      background-color: #E2EBFA;\n",
              "      box-shadow: 0px 1px 2px rgba(60, 64, 67, 0.3), 0px 1px 3px 1px rgba(60, 64, 67, 0.15);\n",
              "      fill: #174EA6;\n",
              "    }\n",
              "\n",
              "    .colab-df-buttons div {\n",
              "      margin-bottom: 4px;\n",
              "    }\n",
              "\n",
              "    [theme=dark] .colab-df-convert {\n",
              "      background-color: #3B4455;\n",
              "      fill: #D2E3FC;\n",
              "    }\n",
              "\n",
              "    [theme=dark] .colab-df-convert:hover {\n",
              "      background-color: #434B5C;\n",
              "      box-shadow: 0px 1px 3px 1px rgba(0, 0, 0, 0.15);\n",
              "      filter: drop-shadow(0px 1px 2px rgba(0, 0, 0, 0.3));\n",
              "      fill: #FFFFFF;\n",
              "    }\n",
              "  </style>\n",
              "\n",
              "    <script>\n",
              "      const buttonEl =\n",
              "        document.querySelector('#df-554be9a5-6715-4756-95ec-6b3ec07f1f5b button.colab-df-convert');\n",
              "      buttonEl.style.display =\n",
              "        google.colab.kernel.accessAllowed ? 'block' : 'none';\n",
              "\n",
              "      async function convertToInteractive(key) {\n",
              "        const element = document.querySelector('#df-554be9a5-6715-4756-95ec-6b3ec07f1f5b');\n",
              "        const dataTable =\n",
              "          await google.colab.kernel.invokeFunction('convertToInteractive',\n",
              "                                                    [key], {});\n",
              "        if (!dataTable) return;\n",
              "\n",
              "        const docLinkHtml = 'Like what you see? Visit the ' +\n",
              "          '<a target=\"_blank\" href=https://colab.research.google.com/notebooks/data_table.ipynb>data table notebook</a>'\n",
              "          + ' to learn more about interactive tables.';\n",
              "        element.innerHTML = '';\n",
              "        dataTable['output_type'] = 'display_data';\n",
              "        await google.colab.output.renderOutput(dataTable, element);\n",
              "        const docLink = document.createElement('div');\n",
              "        docLink.innerHTML = docLinkHtml;\n",
              "        element.appendChild(docLink);\n",
              "      }\n",
              "    </script>\n",
              "  </div>\n",
              "\n",
              "\n",
              "    </div>\n",
              "  </div>\n"
            ],
            "application/vnd.google.colaboratory.intrinsic+json": {
              "type": "dataframe",
              "variable_name": "data"
            }
          },
          "metadata": {},
          "execution_count": 3
        }
      ],
      "source": [
        "data.head()"
      ]
    },
    {
      "cell_type": "code",
      "execution_count": null,
      "metadata": {
        "colab": {
          "base_uri": "https://localhost:8080/"
        },
        "id": "5d5WYvtozE1o",
        "outputId": "0fcb268a-c6ab-44a8-bce0-06d878de3c53"
      },
      "outputs": [
        {
          "output_type": "execute_result",
          "data": {
            "text/plain": [
              "Index(['{\"nbformat\":4', 'nbformat_minor:0',\n",
              "       'metadata:{\"colab\":{\"provenance\":[]',\n",
              "       'mount_file_id:\"1DD6YzGmwvgvRzLVnvJZ-p_Q8c5NmgYm7\"',\n",
              "       'authorship_tag:\"ABX9TyMCi3btHXmZixSUgB/354U0\"}',\n",
              "       'kernelspec:{\"name\":\"python3\"', 'display_name:\"Python 3\"}',\n",
              "       'language_info:{\"name\":\"python\"}}', 'cells:[{\"cell_type\":\"code\"',\n",
              "       'execution_count:null', 'metadata:{\"id\":\"xS-eAQCFTQGL\"}', 'outputs:[]',\n",
              "       'source:[]}', '{\"cell_type\":\"code\"', 'source:[\"import numpy as np\\n\"',\n",
              "       'import pandas as pd\\n]', 'metadata:{\"id\":\"wU3kkk4sTWSJ\"',\n",
              "       'executionInfo:{\"status\":\"ok\"', 'timestamp:1728024997389',\n",
              "       'user_tz:-330', 'elapsed:414', 'user:{\"displayName\":\"Tanya Sen\"',\n",
              "       'userId:\"09312349768997804066\"}}}', 'execution_count:2', 'outputs:[]}',\n",
              "       '{\"cell_type\":\"code\".1', 'source:[]', 'metadata:{\"id\":\"YuLpVReoZRNK\"}',\n",
              "       'execution_count:null.1', 'outputs:[]}]}'],\n",
              "      dtype='object')"
            ]
          },
          "metadata": {},
          "execution_count": 4
        }
      ],
      "source": [
        "data.columns"
      ]
    },
    {
      "cell_type": "code",
      "execution_count": null,
      "metadata": {
        "colab": {
          "base_uri": "https://localhost:8080/",
          "height": 150
        },
        "id": "Lj1RodCzzHXu",
        "outputId": "d30abbff-af5a-4235-b9ac-8564abcc1e63"
      },
      "outputs": [
        {
          "output_type": "execute_result",
          "data": {
            "text/plain": [
              "Empty DataFrame\n",
              "Columns: [{\"nbformat\":4, nbformat_minor:0, metadata:{\"colab\":{\"provenance\":[], mount_file_id:\"1DD6YzGmwvgvRzLVnvJZ-p_Q8c5NmgYm7\", authorship_tag:\"ABX9TyMCi3btHXmZixSUgB/354U0\"}, kernelspec:{\"name\":\"python3\", display_name:\"Python 3\"}, language_info:{\"name\":\"python\"}}, cells:[{\"cell_type\":\"code\", execution_count:null, metadata:{\"id\":\"xS-eAQCFTQGL\"}, outputs:[], source:[]}, {\"cell_type\":\"code\", source:[\"import numpy as np\\n\", import pandas as pd\\n], metadata:{\"id\":\"wU3kkk4sTWSJ\", executionInfo:{\"status\":\"ok\", timestamp:1728024997389, user_tz:-330, elapsed:414, user:{\"displayName\":\"Tanya Sen\", userId:\"09312349768997804066\"}}}, execution_count:2, outputs:[]}, {\"cell_type\":\"code\".1, source:[], metadata:{\"id\":\"YuLpVReoZRNK\"}, execution_count:null.1, outputs:[]}]}]\n",
              "Index: []\n",
              "\n",
              "[0 rows x 30 columns]"
            ],
            "text/html": [
              "\n",
              "  <div id=\"df-f1115c4b-fe9f-4c8a-9bf4-92b17315553e\" class=\"colab-df-container\">\n",
              "    <div>\n",
              "<style scoped>\n",
              "    .dataframe tbody tr th:only-of-type {\n",
              "        vertical-align: middle;\n",
              "    }\n",
              "\n",
              "    .dataframe tbody tr th {\n",
              "        vertical-align: top;\n",
              "    }\n",
              "\n",
              "    .dataframe thead th {\n",
              "        text-align: right;\n",
              "    }\n",
              "</style>\n",
              "<table border=\"1\" class=\"dataframe\">\n",
              "  <thead>\n",
              "    <tr style=\"text-align: right;\">\n",
              "      <th></th>\n",
              "      <th>{\"nbformat\":4</th>\n",
              "      <th>nbformat_minor:0</th>\n",
              "      <th>metadata:{\"colab\":{\"provenance\":[]</th>\n",
              "      <th>mount_file_id:\"1DD6YzGmwvgvRzLVnvJZ-p_Q8c5NmgYm7\"</th>\n",
              "      <th>authorship_tag:\"ABX9TyMCi3btHXmZixSUgB/354U0\"}</th>\n",
              "      <th>kernelspec:{\"name\":\"python3\"</th>\n",
              "      <th>display_name:\"Python 3\"}</th>\n",
              "      <th>language_info:{\"name\":\"python\"}}</th>\n",
              "      <th>cells:[{\"cell_type\":\"code\"</th>\n",
              "      <th>execution_count:null</th>\n",
              "      <th>...</th>\n",
              "      <th>elapsed:414</th>\n",
              "      <th>user:{\"displayName\":\"Tanya Sen\"</th>\n",
              "      <th>userId:\"09312349768997804066\"}}}</th>\n",
              "      <th>execution_count:2</th>\n",
              "      <th>outputs:[]}</th>\n",
              "      <th>{\"cell_type\":\"code\".1</th>\n",
              "      <th>source:[]</th>\n",
              "      <th>metadata:{\"id\":\"YuLpVReoZRNK\"}</th>\n",
              "      <th>execution_count:null.1</th>\n",
              "      <th>outputs:[]}]}</th>\n",
              "    </tr>\n",
              "  </thead>\n",
              "  <tbody>\n",
              "  </tbody>\n",
              "</table>\n",
              "<p>0 rows × 30 columns</p>\n",
              "</div>\n",
              "    <div class=\"colab-df-buttons\">\n",
              "\n",
              "  <div class=\"colab-df-container\">\n",
              "    <button class=\"colab-df-convert\" onclick=\"convertToInteractive('df-f1115c4b-fe9f-4c8a-9bf4-92b17315553e')\"\n",
              "            title=\"Convert this dataframe to an interactive table.\"\n",
              "            style=\"display:none;\">\n",
              "\n",
              "  <svg xmlns=\"http://www.w3.org/2000/svg\" height=\"24px\" viewBox=\"0 -960 960 960\">\n",
              "    <path d=\"M120-120v-720h720v720H120Zm60-500h600v-160H180v160Zm220 220h160v-160H400v160Zm0 220h160v-160H400v160ZM180-400h160v-160H180v160Zm440 0h160v-160H620v160ZM180-180h160v-160H180v160Zm440 0h160v-160H620v160Z\"/>\n",
              "  </svg>\n",
              "    </button>\n",
              "\n",
              "  <style>\n",
              "    .colab-df-container {\n",
              "      display:flex;\n",
              "      gap: 12px;\n",
              "    }\n",
              "\n",
              "    .colab-df-convert {\n",
              "      background-color: #E8F0FE;\n",
              "      border: none;\n",
              "      border-radius: 50%;\n",
              "      cursor: pointer;\n",
              "      display: none;\n",
              "      fill: #1967D2;\n",
              "      height: 32px;\n",
              "      padding: 0 0 0 0;\n",
              "      width: 32px;\n",
              "    }\n",
              "\n",
              "    .colab-df-convert:hover {\n",
              "      background-color: #E2EBFA;\n",
              "      box-shadow: 0px 1px 2px rgba(60, 64, 67, 0.3), 0px 1px 3px 1px rgba(60, 64, 67, 0.15);\n",
              "      fill: #174EA6;\n",
              "    }\n",
              "\n",
              "    .colab-df-buttons div {\n",
              "      margin-bottom: 4px;\n",
              "    }\n",
              "\n",
              "    [theme=dark] .colab-df-convert {\n",
              "      background-color: #3B4455;\n",
              "      fill: #D2E3FC;\n",
              "    }\n",
              "\n",
              "    [theme=dark] .colab-df-convert:hover {\n",
              "      background-color: #434B5C;\n",
              "      box-shadow: 0px 1px 3px 1px rgba(0, 0, 0, 0.15);\n",
              "      filter: drop-shadow(0px 1px 2px rgba(0, 0, 0, 0.3));\n",
              "      fill: #FFFFFF;\n",
              "    }\n",
              "  </style>\n",
              "\n",
              "    <script>\n",
              "      const buttonEl =\n",
              "        document.querySelector('#df-f1115c4b-fe9f-4c8a-9bf4-92b17315553e button.colab-df-convert');\n",
              "      buttonEl.style.display =\n",
              "        google.colab.kernel.accessAllowed ? 'block' : 'none';\n",
              "\n",
              "      async function convertToInteractive(key) {\n",
              "        const element = document.querySelector('#df-f1115c4b-fe9f-4c8a-9bf4-92b17315553e');\n",
              "        const dataTable =\n",
              "          await google.colab.kernel.invokeFunction('convertToInteractive',\n",
              "                                                    [key], {});\n",
              "        if (!dataTable) return;\n",
              "\n",
              "        const docLinkHtml = 'Like what you see? Visit the ' +\n",
              "          '<a target=\"_blank\" href=https://colab.research.google.com/notebooks/data_table.ipynb>data table notebook</a>'\n",
              "          + ' to learn more about interactive tables.';\n",
              "        element.innerHTML = '';\n",
              "        dataTable['output_type'] = 'display_data';\n",
              "        await google.colab.output.renderOutput(dataTable, element);\n",
              "        const docLink = document.createElement('div');\n",
              "        docLink.innerHTML = docLinkHtml;\n",
              "        element.appendChild(docLink);\n",
              "      }\n",
              "    </script>\n",
              "  </div>\n",
              "\n",
              "\n",
              "    </div>\n",
              "  </div>\n"
            ],
            "application/vnd.google.colaboratory.intrinsic+json": {
              "type": "dataframe"
            }
          },
          "metadata": {},
          "execution_count": 6
        }
      ],
      "source": [
        "data.tail()"
      ]
    },
    {
      "cell_type": "code",
      "execution_count": null,
      "metadata": {
        "colab": {
          "base_uri": "https://localhost:8080/"
        },
        "id": "D19liWc5zL2N",
        "outputId": "8750c473-2889-4419-f205-c0cb576afec7"
      },
      "outputs": [
        {
          "output_type": "stream",
          "name": "stdout",
          "text": [
            "<class 'pandas.core.frame.DataFrame'>\n",
            "RangeIndex: 0 entries\n",
            "Data columns (total 30 columns):\n",
            " #   Column                                             Non-Null Count  Dtype \n",
            "---  ------                                             --------------  ----- \n",
            " 0   {\"nbformat\":4                                      0 non-null      object\n",
            " 1   nbformat_minor:0                                   0 non-null      object\n",
            " 2   metadata:{\"colab\":{\"provenance\":[]                 0 non-null      object\n",
            " 3   mount_file_id:\"1DD6YzGmwvgvRzLVnvJZ-p_Q8c5NmgYm7\"  0 non-null      object\n",
            " 4   authorship_tag:\"ABX9TyMCi3btHXmZixSUgB/354U0\"}     0 non-null      object\n",
            " 5   kernelspec:{\"name\":\"python3\"                       0 non-null      object\n",
            " 6   display_name:\"Python 3\"}                           0 non-null      object\n",
            " 7   language_info:{\"name\":\"python\"}}                   0 non-null      object\n",
            " 8   cells:[{\"cell_type\":\"code\"                         0 non-null      object\n",
            " 9   execution_count:null                               0 non-null      object\n",
            " 10  metadata:{\"id\":\"xS-eAQCFTQGL\"}                     0 non-null      object\n",
            " 11  outputs:[]                                         0 non-null      object\n",
            " 12  source:[]}                                         0 non-null      object\n",
            " 13  {\"cell_type\":\"code\"                                0 non-null      object\n",
            " 14  source:[\"import numpy as np\\n\"                     0 non-null      object\n",
            " 15  import pandas as pd\\n]                             0 non-null      object\n",
            " 16  metadata:{\"id\":\"wU3kkk4sTWSJ\"                      0 non-null      object\n",
            " 17  executionInfo:{\"status\":\"ok\"                       0 non-null      object\n",
            " 18  timestamp:1728024997389                            0 non-null      object\n",
            " 19  user_tz:-330                                       0 non-null      object\n",
            " 20  elapsed:414                                        0 non-null      object\n",
            " 21  user:{\"displayName\":\"Tanya Sen\"                    0 non-null      object\n",
            " 22  userId:\"09312349768997804066\"}}}                   0 non-null      object\n",
            " 23  execution_count:2                                  0 non-null      object\n",
            " 24  outputs:[]}                                        0 non-null      object\n",
            " 25  {\"cell_type\":\"code\".1                              0 non-null      object\n",
            " 26  source:[]                                          0 non-null      object\n",
            " 27  metadata:{\"id\":\"YuLpVReoZRNK\"}                     0 non-null      object\n",
            " 28  execution_count:null.1                             0 non-null      object\n",
            " 29  outputs:[]}]}                                      0 non-null      object\n",
            "dtypes: object(30)\n",
            "memory usage: 132.0+ bytes\n"
          ]
        }
      ],
      "source": [
        "data.info()"
      ]
    },
    {
      "cell_type": "code",
      "execution_count": null,
      "metadata": {
        "colab": {
          "base_uri": "https://localhost:8080/",
          "height": 1000
        },
        "id": "F5GJW5ZQzVHx",
        "outputId": "4a2748eb-8a49-4ac9-a4c3-b7e1dacb56d9"
      },
      "outputs": [
        {
          "output_type": "execute_result",
          "data": {
            "text/plain": [
              "{\"nbformat\":4                                        0\n",
              "nbformat_minor:0                                     0\n",
              "metadata:{\"colab\":{\"provenance\":[]                   0\n",
              "mount_file_id:\"1DD6YzGmwvgvRzLVnvJZ-p_Q8c5NmgYm7\"    0\n",
              "authorship_tag:\"ABX9TyMCi3btHXmZixSUgB/354U0\"}       0\n",
              "kernelspec:{\"name\":\"python3\"                         0\n",
              "display_name:\"Python 3\"}                             0\n",
              "language_info:{\"name\":\"python\"}}                     0\n",
              "cells:[{\"cell_type\":\"code\"                           0\n",
              "execution_count:null                                 0\n",
              "metadata:{\"id\":\"xS-eAQCFTQGL\"}                       0\n",
              "outputs:[]                                           0\n",
              "source:[]}                                           0\n",
              "{\"cell_type\":\"code\"                                  0\n",
              "source:[\"import numpy as np\\n\"                       0\n",
              "import pandas as pd\\n]                               0\n",
              "metadata:{\"id\":\"wU3kkk4sTWSJ\"                        0\n",
              "executionInfo:{\"status\":\"ok\"                         0\n",
              "timestamp:1728024997389                              0\n",
              "user_tz:-330                                         0\n",
              "elapsed:414                                          0\n",
              "user:{\"displayName\":\"Tanya Sen\"                      0\n",
              "userId:\"09312349768997804066\"}}}                     0\n",
              "execution_count:2                                    0\n",
              "outputs:[]}                                          0\n",
              "{\"cell_type\":\"code\".1                                0\n",
              "source:[]                                            0\n",
              "metadata:{\"id\":\"YuLpVReoZRNK\"}                       0\n",
              "execution_count:null.1                               0\n",
              "outputs:[]}]}                                        0\n",
              "dtype: int64"
            ],
            "text/html": [
              "<div>\n",
              "<style scoped>\n",
              "    .dataframe tbody tr th:only-of-type {\n",
              "        vertical-align: middle;\n",
              "    }\n",
              "\n",
              "    .dataframe tbody tr th {\n",
              "        vertical-align: top;\n",
              "    }\n",
              "\n",
              "    .dataframe thead th {\n",
              "        text-align: right;\n",
              "    }\n",
              "</style>\n",
              "<table border=\"1\" class=\"dataframe\">\n",
              "  <thead>\n",
              "    <tr style=\"text-align: right;\">\n",
              "      <th></th>\n",
              "      <th>0</th>\n",
              "    </tr>\n",
              "  </thead>\n",
              "  <tbody>\n",
              "    <tr>\n",
              "      <th>{\"nbformat\":4</th>\n",
              "      <td>0</td>\n",
              "    </tr>\n",
              "    <tr>\n",
              "      <th>nbformat_minor:0</th>\n",
              "      <td>0</td>\n",
              "    </tr>\n",
              "    <tr>\n",
              "      <th>metadata:{\"colab\":{\"provenance\":[]</th>\n",
              "      <td>0</td>\n",
              "    </tr>\n",
              "    <tr>\n",
              "      <th>mount_file_id:\"1DD6YzGmwvgvRzLVnvJZ-p_Q8c5NmgYm7\"</th>\n",
              "      <td>0</td>\n",
              "    </tr>\n",
              "    <tr>\n",
              "      <th>authorship_tag:\"ABX9TyMCi3btHXmZixSUgB/354U0\"}</th>\n",
              "      <td>0</td>\n",
              "    </tr>\n",
              "    <tr>\n",
              "      <th>kernelspec:{\"name\":\"python3\"</th>\n",
              "      <td>0</td>\n",
              "    </tr>\n",
              "    <tr>\n",
              "      <th>display_name:\"Python 3\"}</th>\n",
              "      <td>0</td>\n",
              "    </tr>\n",
              "    <tr>\n",
              "      <th>language_info:{\"name\":\"python\"}}</th>\n",
              "      <td>0</td>\n",
              "    </tr>\n",
              "    <tr>\n",
              "      <th>cells:[{\"cell_type\":\"code\"</th>\n",
              "      <td>0</td>\n",
              "    </tr>\n",
              "    <tr>\n",
              "      <th>execution_count:null</th>\n",
              "      <td>0</td>\n",
              "    </tr>\n",
              "    <tr>\n",
              "      <th>metadata:{\"id\":\"xS-eAQCFTQGL\"}</th>\n",
              "      <td>0</td>\n",
              "    </tr>\n",
              "    <tr>\n",
              "      <th>outputs:[]</th>\n",
              "      <td>0</td>\n",
              "    </tr>\n",
              "    <tr>\n",
              "      <th>source:[]}</th>\n",
              "      <td>0</td>\n",
              "    </tr>\n",
              "    <tr>\n",
              "      <th>{\"cell_type\":\"code\"</th>\n",
              "      <td>0</td>\n",
              "    </tr>\n",
              "    <tr>\n",
              "      <th>source:[\"import numpy as np\\n\"</th>\n",
              "      <td>0</td>\n",
              "    </tr>\n",
              "    <tr>\n",
              "      <th>import pandas as pd\\n]</th>\n",
              "      <td>0</td>\n",
              "    </tr>\n",
              "    <tr>\n",
              "      <th>metadata:{\"id\":\"wU3kkk4sTWSJ\"</th>\n",
              "      <td>0</td>\n",
              "    </tr>\n",
              "    <tr>\n",
              "      <th>executionInfo:{\"status\":\"ok\"</th>\n",
              "      <td>0</td>\n",
              "    </tr>\n",
              "    <tr>\n",
              "      <th>timestamp:1728024997389</th>\n",
              "      <td>0</td>\n",
              "    </tr>\n",
              "    <tr>\n",
              "      <th>user_tz:-330</th>\n",
              "      <td>0</td>\n",
              "    </tr>\n",
              "    <tr>\n",
              "      <th>elapsed:414</th>\n",
              "      <td>0</td>\n",
              "    </tr>\n",
              "    <tr>\n",
              "      <th>user:{\"displayName\":\"Tanya Sen\"</th>\n",
              "      <td>0</td>\n",
              "    </tr>\n",
              "    <tr>\n",
              "      <th>userId:\"09312349768997804066\"}}}</th>\n",
              "      <td>0</td>\n",
              "    </tr>\n",
              "    <tr>\n",
              "      <th>execution_count:2</th>\n",
              "      <td>0</td>\n",
              "    </tr>\n",
              "    <tr>\n",
              "      <th>outputs:[]}</th>\n",
              "      <td>0</td>\n",
              "    </tr>\n",
              "    <tr>\n",
              "      <th>{\"cell_type\":\"code\".1</th>\n",
              "      <td>0</td>\n",
              "    </tr>\n",
              "    <tr>\n",
              "      <th>source:[]</th>\n",
              "      <td>0</td>\n",
              "    </tr>\n",
              "    <tr>\n",
              "      <th>metadata:{\"id\":\"YuLpVReoZRNK\"}</th>\n",
              "      <td>0</td>\n",
              "    </tr>\n",
              "    <tr>\n",
              "      <th>execution_count:null.1</th>\n",
              "      <td>0</td>\n",
              "    </tr>\n",
              "    <tr>\n",
              "      <th>outputs:[]}]}</th>\n",
              "      <td>0</td>\n",
              "    </tr>\n",
              "  </tbody>\n",
              "</table>\n",
              "</div><br><label><b>dtype:</b> int64</label>"
            ]
          },
          "metadata": {},
          "execution_count": 7
        }
      ],
      "source": [
        "data.isnull().sum()"
      ]
    },
    {
      "cell_type": "code",
      "execution_count": null,
      "metadata": {
        "colab": {
          "base_uri": "https://localhost:8080/"
        },
        "id": "o9UCL2s2z4Jf",
        "outputId": "550e883f-e5ce-4eef-c2fc-d0f462f7bc70"
      },
      "outputs": [
        {
          "output_type": "stream",
          "name": "stdout",
          "text": [
            "Empty DataFrame\n",
            "Columns: []\n",
            "Index: []\n"
          ]
        }
      ],
      "source": [
        "numeric_data = data.select_dtypes(include=['number'])  # Select only numeric columns\n",
        "corr = numeric_data.corr()  # Compute correlation matrix\n",
        "print(corr)\n"
      ]
    },
    {
      "cell_type": "code",
      "execution_count": null,
      "metadata": {
        "colab": {
          "base_uri": "https://localhost:8080/"
        },
        "id": "B7hRSJNIz_sI",
        "outputId": "33a98604-b591-4ef7-aaf9-1620bd1ddb9d"
      },
      "outputs": [
        {
          "output_type": "stream",
          "name": "stdout",
          "text": [
            "Empty DataFrame\n",
            "Columns: []\n",
            "Index: []\n"
          ]
        }
      ],
      "source": [
        "encoded_data = pd.get_dummies(data, drop_first=True)  # Convert categorical to one-hot encoding\n",
        "corr = encoded_data.corr()  # Compute correlation matrix\n",
        "print(corr)\n"
      ]
    },
    {
      "cell_type": "code",
      "execution_count": null,
      "metadata": {
        "colab": {
          "base_uri": "https://localhost:8080/"
        },
        "id": "krIoSAig0eud",
        "outputId": "bcda412d-7eb2-4c4a-cdfa-9fa465dc5112"
      },
      "outputs": [
        {
          "output_type": "stream",
          "name": "stdout",
          "text": [
            "Index(['{\"nbformat\":4', 'nbformat_minor:0',\n",
            "       'metadata:{\"colab\":{\"provenance\":[]',\n",
            "       'mount_file_id:\"1DD6YzGmwvgvRzLVnvJZ-p_Q8c5NmgYm7\"',\n",
            "       'authorship_tag:\"ABX9TyMCi3btHXmZixSUgB/354U0\"}',\n",
            "       'kernelspec:{\"name\":\"python3\"', 'display_name:\"Python 3\"}',\n",
            "       'language_info:{\"name\":\"python\"}}', 'cells:[{\"cell_type\":\"code\"',\n",
            "       'execution_count:null', 'metadata:{\"id\":\"xS-eAQCFTQGL\"}', 'outputs:[]',\n",
            "       'source:[]}', '{\"cell_type\":\"code\"', 'source:[\"import numpy as np\\n\"',\n",
            "       'import pandas as pd\\n]', 'metadata:{\"id\":\"wU3kkk4sTWSJ\"',\n",
            "       'executionInfo:{\"status\":\"ok\"', 'timestamp:1728024997389',\n",
            "       'user_tz:-330', 'elapsed:414', 'user:{\"displayName\":\"Tanya Sen\"',\n",
            "       'userId:\"09312349768997804066\"}}}', 'execution_count:2', 'outputs:[]}',\n",
            "       '{\"cell_type\":\"code\".1', 'source:[]', 'metadata:{\"id\":\"YuLpVReoZRNK\"}',\n",
            "       'execution_count:null.1', 'outputs:[]}]}'],\n",
            "      dtype='object')\n"
          ]
        }
      ],
      "source": [
        "print(data.columns)\n"
      ]
    },
    {
      "cell_type": "code",
      "execution_count": null,
      "metadata": {
        "colab": {
          "base_uri": "https://localhost:8080/"
        },
        "id": "LOYOwCsT1FwW",
        "outputId": "dd74bb23-d8e2-459a-afa6-d733e4690814"
      },
      "outputs": [
        {
          "output_type": "stream",
          "name": "stdout",
          "text": [
            "['{\"nbformat\":4', 'nbformat_minor:0', 'metadata:{\"colab\":{\"provenance\":[]', 'mount_file_id:\"1DD6YzGmwvgvRzLVnvJZ-p_Q8c5NmgYm7\"', 'authorship_tag:\"ABX9TyMCi3btHXmZixSUgB/354U0\"}', 'kernelspec:{\"name\":\"python3\"', 'display_name:\"Python 3\"}', 'language_info:{\"name\":\"python\"}}', 'cells:[{\"cell_type\":\"code\"', 'execution_count:null', 'metadata:{\"id\":\"xS-eAQCFTQGL\"}', 'outputs:[]', 'source:[]}', '{\"cell_type\":\"code\"', 'source:[\"import numpy as np\\\\n\"', 'import pandas as pd\\\\n]', 'metadata:{\"id\":\"wU3kkk4sTWSJ\"', 'executionInfo:{\"status\":\"ok\"', 'timestamp:1728024997389', 'user_tz:-330', 'elapsed:414', 'user:{\"displayName\":\"Tanya Sen\"', 'userId:\"09312349768997804066\"}}}', 'execution_count:2', 'outputs:[]}', '{\"cell_type\":\"code\".1', 'source:[]', 'metadata:{\"id\":\"YuLpVReoZRNK\"}', 'execution_count:null.1', 'outputs:[]}]}']\n"
          ]
        }
      ],
      "source": [
        "print(data.columns.tolist())\n"
      ]
    },
    {
      "cell_type": "code",
      "execution_count": null,
      "metadata": {
        "id": "4WJrCBLr1K8E"
      },
      "outputs": [],
      "source": [
        "data_cleaned = data.drop(columns=['CorrectColumnName'], errors='ignore')\n"
      ]
    },
    {
      "cell_type": "code",
      "execution_count": null,
      "metadata": {
        "colab": {
          "base_uri": "https://localhost:8080/"
        },
        "id": "NZAF3QZF1QC0",
        "outputId": "318ecacc-fbfa-4618-bcd3-3c83b0795ef9"
      },
      "outputs": [
        {
          "output_type": "stream",
          "name": "stdout",
          "text": [
            "Non-numeric columns: ['{\"nbformat\":4', 'nbformat_minor:0', 'metadata:{\"colab\":{\"provenance\":[]', 'mount_file_id:\"1DD6YzGmwvgvRzLVnvJZ-p_Q8c5NmgYm7\"', 'authorship_tag:\"ABX9TyMCi3btHXmZixSUgB/354U0\"}', 'kernelspec:{\"name\":\"python3\"', 'display_name:\"Python 3\"}', 'language_info:{\"name\":\"python\"}}', 'cells:[{\"cell_type\":\"code\"', 'execution_count:null', 'metadata:{\"id\":\"xS-eAQCFTQGL\"}', 'outputs:[]', 'source:[]}', '{\"cell_type\":\"code\"', 'source:[\"import numpy as np\\\\n\"', 'import pandas as pd\\\\n]', 'metadata:{\"id\":\"wU3kkk4sTWSJ\"', 'executionInfo:{\"status\":\"ok\"', 'timestamp:1728024997389', 'user_tz:-330', 'elapsed:414', 'user:{\"displayName\":\"Tanya Sen\"', 'userId:\"09312349768997804066\"}}}', 'execution_count:2', 'outputs:[]}', '{\"cell_type\":\"code\".1', 'source:[]', 'metadata:{\"id\":\"YuLpVReoZRNK\"}', 'execution_count:null.1', 'outputs:[]}]}']\n"
          ]
        }
      ],
      "source": [
        "# Identify non-numeric columns\n",
        "non_numeric_cols = data.select_dtypes(include=['object', 'category']).columns\n",
        "print(\"Non-numeric columns:\", non_numeric_cols.tolist())\n",
        "\n",
        "# Drop non-numeric columns\n",
        "data_cleaned = data.drop(columns=non_numeric_cols)\n"
      ]
    },
    {
      "cell_type": "code",
      "execution_count": null,
      "metadata": {
        "id": "HUBSdm1J1WQa"
      },
      "outputs": [],
      "source": [
        "data.columns = data.columns.str.strip()\n"
      ]
    },
    {
      "cell_type": "code",
      "execution_count": null,
      "metadata": {
        "colab": {
          "base_uri": "https://localhost:8080/"
        },
        "id": "b5rPDiQC1ubs",
        "outputId": "e6835685-2629-4828-ae4f-642ad4d796ec"
      },
      "outputs": [
        {
          "output_type": "stream",
          "name": "stdout",
          "text": [
            "Available columns: ['{\"nbformat\":4', 'nbformat_minor:0', 'metadata:{\"colab\":{\"provenance\":[]', 'mount_file_id:\"1DD6YzGmwvgvRzLVnvJZ-p_Q8c5NmgYm7\"', 'authorship_tag:\"ABX9TyMCi3btHXmZixSUgB/354U0\"}', 'kernelspec:{\"name\":\"python3\"', 'display_name:\"Python 3\"}', 'language_info:{\"name\":\"python\"}}', 'cells:[{\"cell_type\":\"code\"', 'execution_count:null', 'metadata:{\"id\":\"xS-eAQCFTQGL\"}', 'outputs:[]', 'source:[]}', '{\"cell_type\":\"code\"', 'source:[\"import numpy as np\\\\n\"', 'import pandas as pd\\\\n]', 'metadata:{\"id\":\"wU3kkk4sTWSJ\"', 'executionInfo:{\"status\":\"ok\"', 'timestamp:1728024997389', 'user_tz:-330', 'elapsed:414', 'user:{\"displayName\":\"Tanya Sen\"', 'userId:\"09312349768997804066\"}}}', 'execution_count:2', 'outputs:[]}', '{\"cell_type\":\"code\".1', 'source:[]', 'metadata:{\"id\":\"YuLpVReoZRNK\"}', 'execution_count:null.1', 'outputs:[]}]}']\n",
            "Column 'CorrectColumnName' not found. No columns were dropped.\n",
            "Dropped non-numeric columns: ['{\"nbformat\":4', 'nbformat_minor:0', 'metadata:{\"colab\":{\"provenance\":[]', 'mount_file_id:\"1DD6YzGmwvgvRzLVnvJZ-p_Q8c5NmgYm7\"', 'authorship_tag:\"ABX9TyMCi3btHXmZixSUgB/354U0\"}', 'kernelspec:{\"name\":\"python3\"', 'display_name:\"Python 3\"}', 'language_info:{\"name\":\"python\"}}', 'cells:[{\"cell_type\":\"code\"', 'execution_count:null', 'metadata:{\"id\":\"xS-eAQCFTQGL\"}', 'outputs:[]', 'source:[]}', '{\"cell_type\":\"code\"', 'source:[\"import numpy as np\\\\n\"', 'import pandas as pd\\\\n]', 'metadata:{\"id\":\"wU3kkk4sTWSJ\"', 'executionInfo:{\"status\":\"ok\"', 'timestamp:1728024997389', 'user_tz:-330', 'elapsed:414', 'user:{\"displayName\":\"Tanya Sen\"', 'userId:\"09312349768997804066\"}}}', 'execution_count:2', 'outputs:[]}', '{\"cell_type\":\"code\".1', 'source:[]', 'metadata:{\"id\":\"YuLpVReoZRNK\"}', 'execution_count:null.1', 'outputs:[]}]}']\n",
            "Empty DataFrame\n",
            "Columns: []\n",
            "Index: []\n"
          ]
        }
      ],
      "source": [
        "# Print all column names to inspect\n",
        "print(\"Available columns:\", data.columns.tolist())\n",
        "\n",
        "# Strip leading/trailing spaces if needed\n",
        "data.columns = data.columns.str.strip()\n",
        "\n",
        "# Check if the column exists\n",
        "if 'CorrectColumnName' in data.columns:\n",
        "    # Drop the column if it exists\n",
        "    data_cleaned = data.drop(columns=['CorrectColumnName'])\n",
        "    print(\"Column 'CorrectColumnName' dropped.\")\n",
        "else:\n",
        "    print(\"Column 'CorrectColumnName' not found. No columns were dropped.\")\n",
        "\n",
        "# Optional: Drop non-numeric columns\n",
        "non_numeric_cols = data.select_dtypes(include=['object', 'category']).columns\n",
        "data_cleaned = data.drop(columns=non_numeric_cols, errors='ignore')\n",
        "print(\"Dropped non-numeric columns:\", non_numeric_cols.tolist())\n",
        "\n",
        "# Compute correlation matrix\n",
        "corr = data_cleaned.corr()\n",
        "print(corr)\n"
      ]
    },
    {
      "cell_type": "code",
      "execution_count": null,
      "metadata": {
        "colab": {
          "base_uri": "https://localhost:8080/",
          "height": 321
        },
        "id": "EzRuVnY229SS",
        "outputId": "b660c8cf-a2ef-45e0-d8c0-2c9aa87ca3f6"
      },
      "outputs": [
        {
          "output_type": "error",
          "ename": "ValueError",
          "evalue": "zero-size array to reduction operation fmin which has no identity",
          "traceback": [
            "\u001b[0;31m---------------------------------------------------------------------------\u001b[0m",
            "\u001b[0;31mValueError\u001b[0m                                Traceback (most recent call last)",
            "\u001b[0;32m<ipython-input-16-158078ceddf4>\u001b[0m in \u001b[0;36m<cell line: 0>\u001b[0;34m()\u001b[0m\n\u001b[1;32m      1\u001b[0m \u001b[0mplt\u001b[0m\u001b[0;34m.\u001b[0m\u001b[0mfigure\u001b[0m\u001b[0;34m(\u001b[0m\u001b[0mfigsize\u001b[0m\u001b[0;34m=\u001b[0m\u001b[0;34m(\u001b[0m\u001b[0;36m34\u001b[0m\u001b[0;34m,\u001b[0m\u001b[0;36m34\u001b[0m\u001b[0;34m)\u001b[0m\u001b[0;34m)\u001b[0m\u001b[0;34m\u001b[0m\u001b[0;34m\u001b[0m\u001b[0m\n\u001b[0;32m----> 2\u001b[0;31m \u001b[0msns\u001b[0m\u001b[0;34m.\u001b[0m\u001b[0mheatmap\u001b[0m\u001b[0;34m(\u001b[0m\u001b[0mcorr\u001b[0m\u001b[0;34m,\u001b[0m\u001b[0mannot\u001b[0m\u001b[0;34m=\u001b[0m\u001b[0;32mTrue\u001b[0m\u001b[0;34m)\u001b[0m \u001b[0;31m# Annot = True is for data\u001b[0m\u001b[0;34m\u001b[0m\u001b[0;34m\u001b[0m\u001b[0m\n\u001b[0m",
            "\u001b[0;32m/usr/local/lib/python3.11/dist-packages/seaborn/matrix.py\u001b[0m in \u001b[0;36mheatmap\u001b[0;34m(data, vmin, vmax, cmap, center, robust, annot, fmt, annot_kws, linewidths, linecolor, cbar, cbar_kws, cbar_ax, square, xticklabels, yticklabels, mask, ax, **kwargs)\u001b[0m\n\u001b[1;32m    444\u001b[0m     \"\"\"\n\u001b[1;32m    445\u001b[0m     \u001b[0;31m# Initialize the plotter object\u001b[0m\u001b[0;34m\u001b[0m\u001b[0;34m\u001b[0m\u001b[0m\n\u001b[0;32m--> 446\u001b[0;31m     plotter = _HeatMapper(data, vmin, vmax, cmap, center, robust, annot, fmt,\n\u001b[0m\u001b[1;32m    447\u001b[0m                           \u001b[0mannot_kws\u001b[0m\u001b[0;34m,\u001b[0m \u001b[0mcbar\u001b[0m\u001b[0;34m,\u001b[0m \u001b[0mcbar_kws\u001b[0m\u001b[0;34m,\u001b[0m \u001b[0mxticklabels\u001b[0m\u001b[0;34m,\u001b[0m\u001b[0;34m\u001b[0m\u001b[0;34m\u001b[0m\u001b[0m\n\u001b[1;32m    448\u001b[0m                           yticklabels, mask)\n",
            "\u001b[0;32m/usr/local/lib/python3.11/dist-packages/seaborn/matrix.py\u001b[0m in \u001b[0;36m__init__\u001b[0;34m(self, data, vmin, vmax, cmap, center, robust, annot, fmt, annot_kws, cbar, cbar_kws, xticklabels, yticklabels, mask)\u001b[0m\n\u001b[1;32m    161\u001b[0m \u001b[0;34m\u001b[0m\u001b[0m\n\u001b[1;32m    162\u001b[0m         \u001b[0;31m# Determine good default values for the colormapping\u001b[0m\u001b[0;34m\u001b[0m\u001b[0;34m\u001b[0m\u001b[0m\n\u001b[0;32m--> 163\u001b[0;31m         self._determine_cmap_params(plot_data, vmin, vmax,\n\u001b[0m\u001b[1;32m    164\u001b[0m                                     cmap, center, robust)\n\u001b[1;32m    165\u001b[0m \u001b[0;34m\u001b[0m\u001b[0m\n",
            "\u001b[0;32m/usr/local/lib/python3.11/dist-packages/seaborn/matrix.py\u001b[0m in \u001b[0;36m_determine_cmap_params\u001b[0;34m(self, plot_data, vmin, vmax, cmap, center, robust)\u001b[0m\n\u001b[1;32m    200\u001b[0m                 \u001b[0mvmin\u001b[0m \u001b[0;34m=\u001b[0m \u001b[0mnp\u001b[0m\u001b[0;34m.\u001b[0m\u001b[0mnanpercentile\u001b[0m\u001b[0;34m(\u001b[0m\u001b[0mcalc_data\u001b[0m\u001b[0;34m,\u001b[0m \u001b[0;36m2\u001b[0m\u001b[0;34m)\u001b[0m\u001b[0;34m\u001b[0m\u001b[0;34m\u001b[0m\u001b[0m\n\u001b[1;32m    201\u001b[0m             \u001b[0;32melse\u001b[0m\u001b[0;34m:\u001b[0m\u001b[0;34m\u001b[0m\u001b[0;34m\u001b[0m\u001b[0m\n\u001b[0;32m--> 202\u001b[0;31m                 \u001b[0mvmin\u001b[0m \u001b[0;34m=\u001b[0m \u001b[0mnp\u001b[0m\u001b[0;34m.\u001b[0m\u001b[0mnanmin\u001b[0m\u001b[0;34m(\u001b[0m\u001b[0mcalc_data\u001b[0m\u001b[0;34m)\u001b[0m\u001b[0;34m\u001b[0m\u001b[0;34m\u001b[0m\u001b[0m\n\u001b[0m\u001b[1;32m    203\u001b[0m         \u001b[0;32mif\u001b[0m \u001b[0mvmax\u001b[0m \u001b[0;32mis\u001b[0m \u001b[0;32mNone\u001b[0m\u001b[0;34m:\u001b[0m\u001b[0;34m\u001b[0m\u001b[0;34m\u001b[0m\u001b[0m\n\u001b[1;32m    204\u001b[0m             \u001b[0;32mif\u001b[0m \u001b[0mrobust\u001b[0m\u001b[0;34m:\u001b[0m\u001b[0;34m\u001b[0m\u001b[0;34m\u001b[0m\u001b[0m\n",
            "\u001b[0;32m/usr/local/lib/python3.11/dist-packages/numpy/lib/_nanfunctions_impl.py\u001b[0m in \u001b[0;36mnanmin\u001b[0;34m(a, axis, out, keepdims, initial, where)\u001b[0m\n\u001b[1;32m    358\u001b[0m         \u001b[0;31m# Fast, but not safe for subclasses of ndarray, or object arrays,\u001b[0m\u001b[0;34m\u001b[0m\u001b[0;34m\u001b[0m\u001b[0m\n\u001b[1;32m    359\u001b[0m         \u001b[0;31m# which do not implement isnan (gh-9009), or fmin correctly (gh-8975)\u001b[0m\u001b[0;34m\u001b[0m\u001b[0;34m\u001b[0m\u001b[0m\n\u001b[0;32m--> 360\u001b[0;31m         \u001b[0mres\u001b[0m \u001b[0;34m=\u001b[0m \u001b[0mnp\u001b[0m\u001b[0;34m.\u001b[0m\u001b[0mfmin\u001b[0m\u001b[0;34m.\u001b[0m\u001b[0mreduce\u001b[0m\u001b[0;34m(\u001b[0m\u001b[0ma\u001b[0m\u001b[0;34m,\u001b[0m \u001b[0maxis\u001b[0m\u001b[0;34m=\u001b[0m\u001b[0maxis\u001b[0m\u001b[0;34m,\u001b[0m \u001b[0mout\u001b[0m\u001b[0;34m=\u001b[0m\u001b[0mout\u001b[0m\u001b[0;34m,\u001b[0m \u001b[0;34m**\u001b[0m\u001b[0mkwargs\u001b[0m\u001b[0;34m)\u001b[0m\u001b[0;34m\u001b[0m\u001b[0;34m\u001b[0m\u001b[0m\n\u001b[0m\u001b[1;32m    361\u001b[0m         \u001b[0;32mif\u001b[0m \u001b[0mnp\u001b[0m\u001b[0;34m.\u001b[0m\u001b[0misnan\u001b[0m\u001b[0;34m(\u001b[0m\u001b[0mres\u001b[0m\u001b[0;34m)\u001b[0m\u001b[0;34m.\u001b[0m\u001b[0many\u001b[0m\u001b[0;34m(\u001b[0m\u001b[0;34m)\u001b[0m\u001b[0;34m:\u001b[0m\u001b[0;34m\u001b[0m\u001b[0;34m\u001b[0m\u001b[0m\n\u001b[1;32m    362\u001b[0m             warnings.warn(\"All-NaN slice encountered\", RuntimeWarning,\n",
            "\u001b[0;31mValueError\u001b[0m: zero-size array to reduction operation fmin which has no identity"
          ]
        },
        {
          "output_type": "display_data",
          "data": {
            "text/plain": [
              "<Figure size 3400x3400 with 0 Axes>"
            ]
          },
          "metadata": {}
        }
      ],
      "source": [
        "plt.figure(figsize=(34,34))\n",
        "sns.heatmap(corr,annot=True) # Annot = True is for data\n"
      ]
    },
    {
      "cell_type": "code",
      "execution_count": null,
      "metadata": {
        "colab": {
          "base_uri": "https://localhost:8080/"
        },
        "id": "vZ6kfnUi3k33",
        "outputId": "5dd0199a-3d9e-49d4-ee59-9a386366e901"
      },
      "outputs": [
        {
          "output_type": "execute_result",
          "data": {
            "text/plain": [
              "array([[ 1.        ,  1.47368421,  1.94736842,  2.42105263,  2.89473684],\n",
              "       [ 3.36842105,  3.84210526,  4.31578947,  4.78947368,  5.26315789],\n",
              "       [ 5.73684211,  6.21052632,  6.68421053,  7.15789474,  7.63157895],\n",
              "       [ 8.10526316,  8.57894737,  9.05263158,  9.52631579, 10.        ]])"
            ]
          },
          "metadata": {},
          "execution_count": 17
        }
      ],
      "source": [
        "var = np.linspace(1,10,20).reshape(4,5)\n",
        "var"
      ]
    },
    {
      "cell_type": "code",
      "execution_count": null,
      "metadata": {
        "colab": {
          "base_uri": "https://localhost:8080/",
          "height": 452
        },
        "id": "VRZTohkl3qOF",
        "outputId": "d6a551e8-3b3d-446a-d65f-e38a0e7cfe93"
      },
      "outputs": [
        {
          "output_type": "execute_result",
          "data": {
            "text/plain": [
              "<Axes: >"
            ]
          },
          "metadata": {},
          "execution_count": 18
        },
        {
          "output_type": "display_data",
          "data": {
            "text/plain": [
              "<Figure size 640x480 with 2 Axes>"
            ],
            "image/png": "[encoded data removed]"
          },
          "metadata": {}
        }
      ],
      "source": [
        "sns.heatmap(var, annot=True)\n"
      ]
    },
    {
      "cell_type": "code",
      "execution_count": null,
      "metadata": {
        "colab": {
          "base_uri": "https://localhost:8080/"
        },
        "id": "Org2O_5w49ln",
        "outputId": "d11cc628-4914-4f8c-90cb-20b119806876"
      },
      "outputs": [
        {
          "output_type": "stream",
          "name": "stdout",
          "text": [
            "['{\"nbformat\":4', 'nbformat_minor:0', 'metadata:{\"colab\":{\"provenance\":[]', 'mount_file_id:\"1DD6YzGmwvgvRzLVnvJZ-p_Q8c5NmgYm7\"', 'authorship_tag:\"ABX9TyMCi3btHXmZixSUgB/354U0\"}', 'kernelspec:{\"name\":\"python3\"', 'display_name:\"Python 3\"}', 'language_info:{\"name\":\"python\"}}', 'cells:[{\"cell_type\":\"code\"', 'execution_count:null', 'metadata:{\"id\":\"xS-eAQCFTQGL\"}', 'outputs:[]', 'source:[]}', '{\"cell_type\":\"code\"', 'source:[\"import numpy as np\\\\n\"', 'import pandas as pd\\\\n]', 'metadata:{\"id\":\"wU3kkk4sTWSJ\"', 'executionInfo:{\"status\":\"ok\"', 'timestamp:1728024997389', 'user_tz:-330', 'elapsed:414', 'user:{\"displayName\":\"Tanya Sen\"', 'userId:\"09312349768997804066\"}}}', 'execution_count:2', 'outputs:[]}', '{\"cell_type\":\"code\".1', 'source:[]', 'metadata:{\"id\":\"YuLpVReoZRNK\"}', 'execution_count:null.1', 'outputs:[]}]}']\n"
          ]
        }
      ],
      "source": [
        "print(data.columns.tolist())\n"
      ]
    },
    {
      "cell_type": "code",
      "execution_count": null,
      "metadata": {
        "colab": {
          "base_uri": "https://localhost:8080/"
        },
        "id": "tv-TiWn25CLL",
        "outputId": "c237e6a7-0c66-476c-bf4d-86653395a37c"
      },
      "outputs": [
        {
          "output_type": "stream",
          "name": "stdout",
          "text": [
            "Index(['{\"nbformat\":4', 'nbformat_minor:0',\n",
            "       'metadata:{\"colab\":{\"provenance\":[]',\n",
            "       'mount_file_id:\"1DD6YzGmwvgvRzLVnvJZ-p_Q8c5NmgYm7\"',\n",
            "       'authorship_tag:\"ABX9TyMCi3btHXmZixSUgB/354U0\"}',\n",
            "       'kernelspec:{\"name\":\"python3\"', 'display_name:\"Python 3\"}',\n",
            "       'language_info:{\"name\":\"python\"}}', 'cells:[{\"cell_type\":\"code\"',\n",
            "       'execution_count:null', 'metadata:{\"id\":\"xS-eAQCFTQGL\"}', 'outputs:[]',\n",
            "       'source:[]}', '{\"cell_type\":\"code\"', 'source:[\"import numpy as np\\n\"',\n",
            "       'import pandas as pd\\n]', 'metadata:{\"id\":\"wU3kkk4sTWSJ\"',\n",
            "       'executionInfo:{\"status\":\"ok\"', 'timestamp:1728024997389',\n",
            "       'user_tz:-330', 'elapsed:414', 'user:{\"displayName\":\"Tanya Sen\"',\n",
            "       'userId:\"09312349768997804066\"}}}', 'execution_count:2', 'outputs:[]}',\n",
            "       '{\"cell_type\":\"code\".1', 'source:[]', 'metadata:{\"id\":\"YuLpVReoZRNK\"}',\n",
            "       'execution_count:null.1', 'outputs:[]}]}'],\n",
            "      dtype='object')\n"
          ]
        }
      ],
      "source": [
        "X = data.drop(columns='Class', errors='ignore')\n",
        "print(X.columns)\n"
      ]
    },
    {
      "cell_type": "code",
      "execution_count": null,
      "metadata": {
        "id": "f_UeXD1M5KGM"
      },
      "outputs": [],
      "source": [
        "data.columns = data.columns.str.strip()\n"
      ]
    },
    {
      "cell_type": "code",
      "execution_count": null,
      "metadata": {
        "colab": {
          "base_uri": "https://localhost:8080/"
        },
        "id": "Gwue94zE5uTy",
        "outputId": "953c2a9f-9318-41ce-b865-b98010e60ae7"
      },
      "outputs": [
        {
          "output_type": "stream",
          "name": "stdout",
          "text": [
            "['{\"nbformat\":4', 'nbformat_minor:0', 'metadata:{\"colab\":{\"provenance\":[]', 'mount_file_id:\"1DD6YzGmwvgvRzLVnvJZ-p_Q8c5NmgYm7\"', 'authorship_tag:\"ABX9TyMCi3btHXmZixSUgB/354U0\"}', 'kernelspec:{\"name\":\"python3\"', 'display_name:\"Python 3\"}', 'language_info:{\"name\":\"python\"}}', 'cells:[{\"cell_type\":\"code\"', 'execution_count:null', 'metadata:{\"id\":\"xS-eAQCFTQGL\"}', 'outputs:[]', 'source:[]}', '{\"cell_type\":\"code\"', 'source:[\"import numpy as np\\\\n\"', 'import pandas as pd\\\\n]', 'metadata:{\"id\":\"wU3kkk4sTWSJ\"', 'executionInfo:{\"status\":\"ok\"', 'timestamp:1728024997389', 'user_tz:-330', 'elapsed:414', 'user:{\"displayName\":\"Tanya Sen\"', 'userId:\"09312349768997804066\"}}}', 'execution_count:2', 'outputs:[]}', '{\"cell_type\":\"code\".1', 'source:[]', 'metadata:{\"id\":\"YuLpVReoZRNK\"}', 'execution_count:null.1', 'outputs:[]}]}']\n"
          ]
        }
      ],
      "source": [
        "print(data.columns.tolist())\n"
      ]
    },
    {
      "cell_type": "code",
      "execution_count": null,
      "metadata": {
        "id": "NubHy90E5-Br"
      },
      "outputs": [],
      "source": [
        "data.columns = data.columns.str.strip()  # Remove leading/trailing spaces\n"
      ]
    },
    {
      "cell_type": "code",
      "execution_count": null,
      "metadata": {
        "colab": {
          "base_uri": "https://localhost:8080/"
        },
        "id": "z_op0eDl6C8W",
        "outputId": "c2d54654-157e-4e22-81a4-cb1071a7b957"
      },
      "outputs": [
        {
          "output_type": "stream",
          "name": "stdout",
          "text": [
            "Index(['{\"nbformat\":4', 'nbformat_minor:0',\n",
            "       'metadata:{\"colab\":{\"provenance\":[]',\n",
            "       'mount_file_id:\"1DD6YzGmwvgvRzLVnvJZ-p_Q8c5NmgYm7\"',\n",
            "       'authorship_tag:\"ABX9TyMCi3btHXmZixSUgB/354U0\"}',\n",
            "       'kernelspec:{\"name\":\"python3\"', 'display_name:\"Python 3\"}',\n",
            "       'language_info:{\"name\":\"python\"}}', 'cells:[{\"cell_type\":\"code\"',\n",
            "       'execution_count:null', 'metadata:{\"id\":\"xS-eAQCFTQGL\"}', 'outputs:[]',\n",
            "       'source:[]}', '{\"cell_type\":\"code\"', 'source:[\"import numpy as np\\n\"',\n",
            "       'import pandas as pd\\n]', 'metadata:{\"id\":\"wU3kkk4sTWSJ\"',\n",
            "       'executionInfo:{\"status\":\"ok\"', 'timestamp:1728024997389',\n",
            "       'user_tz:-330', 'elapsed:414', 'user:{\"displayName\":\"Tanya Sen\"',\n",
            "       'userId:\"09312349768997804066\"}}}', 'execution_count:2', 'outputs:[]}',\n",
            "       '{\"cell_type\":\"code\".1', 'source:[]', 'metadata:{\"id\":\"YuLpVReoZRNK\"}',\n",
            "       'execution_count:null.1', 'outputs:[]}]}'],\n",
            "      dtype='object')\n"
          ]
        }
      ],
      "source": [
        "X = data.drop(columns='Class', errors='ignore')\n",
        "print(X.columns)\n"
      ]
    },
    {
      "cell_type": "code",
      "execution_count": null,
      "metadata": {
        "colab": {
          "base_uri": "https://localhost:8080/"
        },
        "id": "pA-4qo7n6HfB",
        "outputId": "9aea076c-347a-410a-ed7f-fe53c3565073"
      },
      "outputs": [
        {
          "output_type": "stream",
          "name": "stdout",
          "text": [
            "Column 'Class' not found.\n"
          ]
        }
      ],
      "source": [
        "if 'Class' in data.columns:\n",
        "    X = data.drop(columns='Class')\n",
        "    print(\"Column 'Class' dropped.\")\n",
        "else:\n",
        "    print(\"Column 'Class' not found.\")\n",
        "    X = data  # Keep the original DataFrame unchanged\n"
      ]
    },
    {
      "cell_type": "code",
      "execution_count": null,
      "metadata": {
        "colab": {
          "base_uri": "https://localhost:8080/"
        },
        "id": "NgRPU7Zd6Mza",
        "outputId": "3f820eaa-bfe6-4422-cfc0-9a6e6b4c37da"
      },
      "outputs": [
        {
          "output_type": "stream",
          "name": "stdout",
          "text": [
            "Available columns: ['{\"nbformat\":4', 'nbformat_minor:0', 'metadata:{\"colab\":{\"provenance\":[]', 'mount_file_id:\"1DD6YzGmwvgvRzLVnvJZ-p_Q8c5NmgYm7\"', 'authorship_tag:\"ABX9TyMCi3btHXmZixSUgB/354U0\"}', 'kernelspec:{\"name\":\"python3\"', 'display_name:\"Python 3\"}', 'language_info:{\"name\":\"python\"}}', 'cells:[{\"cell_type\":\"code\"', 'execution_count:null', 'metadata:{\"id\":\"xS-eAQCFTQGL\"}', 'outputs:[]', 'source:[]}', '{\"cell_type\":\"code\"', 'source:[\"import numpy as np\\\\n\"', 'import pandas as pd\\\\n]', 'metadata:{\"id\":\"wU3kkk4sTWSJ\"', 'executionInfo:{\"status\":\"ok\"', 'timestamp:1728024997389', 'user_tz:-330', 'elapsed:414', 'user:{\"displayName\":\"Tanya Sen\"', 'userId:\"09312349768997804066\"}}}', 'execution_count:2', 'outputs:[]}', '{\"cell_type\":\"code\".1', 'source:[]', 'metadata:{\"id\":\"YuLpVReoZRNK\"}', 'execution_count:null.1', 'outputs:[]}]}']\n",
            "Column 'Class' not found. No columns were dropped.\n",
            "Remaining columns: ['{\"nbformat\":4', 'nbformat_minor:0', 'metadata:{\"colab\":{\"provenance\":[]', 'mount_file_id:\"1DD6YzGmwvgvRzLVnvJZ-p_Q8c5NmgYm7\"', 'authorship_tag:\"ABX9TyMCi3btHXmZixSUgB/354U0\"}', 'kernelspec:{\"name\":\"python3\"', 'display_name:\"Python 3\"}', 'language_info:{\"name\":\"python\"}}', 'cells:[{\"cell_type\":\"code\"', 'execution_count:null', 'metadata:{\"id\":\"xS-eAQCFTQGL\"}', 'outputs:[]', 'source:[]}', '{\"cell_type\":\"code\"', 'source:[\"import numpy as np\\\\n\"', 'import pandas as pd\\\\n]', 'metadata:{\"id\":\"wU3kkk4sTWSJ\"', 'executionInfo:{\"status\":\"ok\"', 'timestamp:1728024997389', 'user_tz:-330', 'elapsed:414', 'user:{\"displayName\":\"Tanya Sen\"', 'userId:\"09312349768997804066\"}}}', 'execution_count:2', 'outputs:[]}', '{\"cell_type\":\"code\".1', 'source:[]', 'metadata:{\"id\":\"YuLpVReoZRNK\"}', 'execution_count:null.1', 'outputs:[]}]}']\n"
          ]
        }
      ],
      "source": [
        "# Print all available columns\n",
        "print(\"Available columns:\", data.columns.tolist())\n",
        "\n",
        "# Clean column names (remove spaces, etc.)\n",
        "data.columns = data.columns.str.strip()\n",
        "\n",
        "# Check if the 'Class' column exists\n",
        "if 'Class' in data.columns:\n",
        "    # Drop the 'Class' column\n",
        "    X = data.drop(columns='Class')\n",
        "    print(\"Column 'Class' dropped successfully.\")\n",
        "else:\n",
        "    print(\"Column 'Class' not found. No columns were dropped.\")\n",
        "    X = data  # Use the original DataFrame\n",
        "\n",
        "# Print remaining columns\n",
        "print(\"Remaining columns:\", X.columns.tolist())\n"
      ]
    },
    {
      "cell_type": "code",
      "execution_count": null,
      "metadata": {
        "colab": {
          "base_uri": "https://localhost:8080/"
        },
        "id": "GKQ3nQmY7NYW",
        "outputId": "1edc2bd0-efa3-42a3-a127-6ad054cc8a6a"
      },
      "outputs": [
        {
          "output_type": "stream",
          "name": "stdout",
          "text": [
            "['{\"nbformat\":4', 'nbformat_minor:0', 'metadata:{\"colab\":{\"provenance\":[]', 'mount_file_id:\"1DD6YzGmwvgvRzLVnvJZ-p_Q8c5NmgYm7\"', 'authorship_tag:\"ABX9TyMCi3btHXmZixSUgB/354U0\"}', 'kernelspec:{\"name\":\"python3\"', 'display_name:\"Python 3\"}', 'language_info:{\"name\":\"python\"}}', 'cells:[{\"cell_type\":\"code\"', 'execution_count:null', 'metadata:{\"id\":\"xS-eAQCFTQGL\"}', 'outputs:[]', 'source:[]}', '{\"cell_type\":\"code\"', 'source:[\"import numpy as np\\\\n\"', 'import pandas as pd\\\\n]', 'metadata:{\"id\":\"wU3kkk4sTWSJ\"', 'executionInfo:{\"status\":\"ok\"', 'timestamp:1728024997389', 'user_tz:-330', 'elapsed:414', 'user:{\"displayName\":\"Tanya Sen\"', 'userId:\"09312349768997804066\"}}}', 'execution_count:2', 'outputs:[]}', '{\"cell_type\":\"code\".1', 'source:[]', 'metadata:{\"id\":\"YuLpVReoZRNK\"}', 'execution_count:null.1', 'outputs:[]}]}']\n"
          ]
        }
      ],
      "source": [
        "print(data.columns.tolist())\n"
      ]
    },
    {
      "cell_type": "code",
      "execution_count": null,
      "metadata": {
        "id": "aJxZy7Am7SnL"
      },
      "outputs": [],
      "source": [
        "data.columns = data.columns.str.strip()\n"
      ]
    },
    {
      "cell_type": "code",
      "execution_count": null,
      "metadata": {
        "colab": {
          "base_uri": "https://localhost:8080/"
        },
        "id": "ym6NQGo67lUw",
        "outputId": "769d2caf-bce7-4abe-91ff-a1c031e65a4d"
      },
      "outputs": [
        {
          "output_type": "stream",
          "name": "stdout",
          "text": [
            "Available columns: ['{\"nbformat\":4', 'nbformat_minor:0', 'metadata:{\"colab\":{\"provenance\":[]', 'mount_file_id:\"1DD6YzGmwvgvRzLVnvJZ-p_Q8c5NmgYm7\"', 'authorship_tag:\"ABX9TyMCi3btHXmZixSUgB/354U0\"}', 'kernelspec:{\"name\":\"python3\"', 'display_name:\"Python 3\"}', 'language_info:{\"name\":\"python\"}}', 'cells:[{\"cell_type\":\"code\"', 'execution_count:null', 'metadata:{\"id\":\"xS-eAQCFTQGL\"}', 'outputs:[]', 'source:[]}', '{\"cell_type\":\"code\"', 'source:[\"import numpy as np\\\\n\"', 'import pandas as pd\\\\n]', 'metadata:{\"id\":\"wU3kkk4sTWSJ\"', 'executionInfo:{\"status\":\"ok\"', 'timestamp:1728024997389', 'user_tz:-330', 'elapsed:414', 'user:{\"displayName\":\"Tanya Sen\"', 'userId:\"09312349768997804066\"}}}', 'execution_count:2', 'outputs:[]}', '{\"cell_type\":\"code\".1', 'source:[]', 'metadata:{\"id\":\"YuLpVReoZRNK\"}', 'execution_count:null.1', 'outputs:[]}]}']\n"
          ]
        }
      ],
      "source": [
        "print(\"Available columns:\", data.columns.tolist())\n"
      ]
    },
    {
      "cell_type": "code",
      "execution_count": null,
      "metadata": {
        "id": "uTCJJCNq8QtL"
      },
      "outputs": [],
      "source": [
        "data.columns = data.columns.str.strip()\n"
      ]
    },
    {
      "cell_type": "code",
      "execution_count": null,
      "metadata": {
        "colab": {
          "base_uri": "https://localhost:8080/"
        },
        "id": "lmqi08hB8VLY",
        "outputId": "bde485b5-2584-485f-96c8-31fdf27089e0"
      },
      "outputs": [
        {
          "output_type": "stream",
          "name": "stdout",
          "text": [
            "Cleaned column names: ['{\"nbformat\":4', 'nbformat_minor:0', 'metadata:{\"colab\":{\"provenance\":[]', 'mount_file_id:\"1DD6YzGmwvgvRzLVnvJZ-p_Q8c5NmgYm7\"', 'authorship_tag:\"ABX9TyMCi3btHXmZixSUgB/354U0\"}', 'kernelspec:{\"name\":\"python3\"', 'display_name:\"Python 3\"}', 'language_info:{\"name\":\"python\"}}', 'cells:[{\"cell_type\":\"code\"', 'execution_count:null', 'metadata:{\"id\":\"xS-eAQCFTQGL\"}', 'outputs:[]', 'source:[]}', '{\"cell_type\":\"code\"', 'source:[\"import numpy as np\\\\n\"', 'import pandas as pd\\\\n]', 'metadata:{\"id\":\"wU3kkk4sTWSJ\"', 'executionInfo:{\"status\":\"ok\"', 'timestamp:1728024997389', 'user_tz:-330', 'elapsed:414', 'user:{\"displayName\":\"Tanya Sen\"', 'userId:\"09312349768997804066\"}}}', 'execution_count:2', 'outputs:[]}', '{\"cell_type\":\"code\".1', 'source:[]', 'metadata:{\"id\":\"YuLpVReoZRNK\"}', 'execution_count:null.1', 'outputs:[]}]}']\n"
          ]
        }
      ],
      "source": [
        "print(\"Cleaned column names:\", data.columns.tolist())\n"
      ]
    },
    {
      "cell_type": "code",
      "execution_count": null,
      "metadata": {
        "colab": {
          "base_uri": "https://localhost:8080/"
        },
        "id": "6-qPSIES8ZqM",
        "outputId": "6ae4210b-1fef-421f-eb75-285a53ffcbc8"
      },
      "outputs": [
        {
          "output_type": "stream",
          "name": "stdout",
          "text": [
            "Column 'Class' not found.\n"
          ]
        }
      ],
      "source": [
        "if 'Class' in data.columns:\n",
        "    X = data.drop(columns='Class')\n",
        "    print(\"Column 'Class' dropped.\")\n",
        "else:\n",
        "    print(\"Column 'Class' not found.\")\n",
        "    X = data  # Keep the DataFrame unchanged\n"
      ]
    },
    {
      "cell_type": "code",
      "execution_count": null,
      "metadata": {
        "colab": {
          "base_uri": "https://localhost:8080/"
        },
        "id": "R-NzXK-78h2d",
        "outputId": "870eddbd-90d3-4718-b9ba-900c7c1d4896"
      },
      "outputs": [
        {
          "output_type": "stream",
          "name": "stdout",
          "text": [
            "Index(['{\"nbformat\":4', 'nbformat_minor:0',\n",
            "       'metadata:{\"colab\":{\"provenance\":[]',\n",
            "       'mount_file_id:\"1DD6YzGmwvgvRzLVnvJZ-p_Q8c5NmgYm7\"',\n",
            "       'authorship_tag:\"ABX9TyMCi3btHXmZixSUgB/354U0\"}',\n",
            "       'kernelspec:{\"name\":\"python3\"', 'display_name:\"Python 3\"}',\n",
            "       'language_info:{\"name\":\"python\"}}', 'cells:[{\"cell_type\":\"code\"',\n",
            "       'execution_count:null', 'metadata:{\"id\":\"xS-eAQCFTQGL\"}', 'outputs:[]',\n",
            "       'source:[]}', '{\"cell_type\":\"code\"', 'source:[\"import numpy as np\\n\"',\n",
            "       'import pandas as pd\\n]', 'metadata:{\"id\":\"wU3kkk4sTWSJ\"',\n",
            "       'executionInfo:{\"status\":\"ok\"', 'timestamp:1728024997389',\n",
            "       'user_tz:-330', 'elapsed:414', 'user:{\"displayName\":\"Tanya Sen\"',\n",
            "       'userId:\"09312349768997804066\"}}}', 'execution_count:2', 'outputs:[]}',\n",
            "       '{\"cell_type\":\"code\".1', 'source:[]', 'metadata:{\"id\":\"YuLpVReoZRNK\"}',\n",
            "       'execution_count:null.1', 'outputs:[]}]}'],\n",
            "      dtype='object')\n"
          ]
        }
      ],
      "source": [
        "X = data.drop(columns='Class', errors='ignore')\n",
        "print(X.columns)\n"
      ]
    },
    {
      "cell_type": "code",
      "execution_count": null,
      "metadata": {
        "colab": {
          "base_uri": "https://localhost:8080/"
        },
        "id": "6zpnKuiu8nM4",
        "outputId": "cd7095d8-0ea9-4c7c-a9f1-75f59a5c2e36"
      },
      "outputs": [
        {
          "output_type": "stream",
          "name": "stdout",
          "text": [
            "No similar columns found.\n"
          ]
        }
      ],
      "source": [
        "similar_cols = [col for col in data.columns if 'class' in col.lower()]\n",
        "if similar_cols:\n",
        "    print(\"Did you mean one of these columns?\", similar_cols)\n",
        "else:\n",
        "    print(\"No similar columns found.\")\n"
      ]
    },
    {
      "cell_type": "code",
      "execution_count": null,
      "metadata": {
        "colab": {
          "base_uri": "https://localhost:8080/"
        },
        "id": "nW6Ydh9d8rk2",
        "outputId": "3fde7952-8b15-4a1b-8955-8ce4d18684e1"
      },
      "outputs": [
        {
          "output_type": "stream",
          "name": "stdout",
          "text": [
            "Available columns: ['{\"nbformat\":4', 'nbformat_minor:0', 'metadata:{\"colab\":{\"provenance\":[]', 'mount_file_id:\"1DD6YzGmwvgvRzLVnvJZ-p_Q8c5NmgYm7\"', 'authorship_tag:\"ABX9TyMCi3btHXmZixSUgB/354U0\"}', 'kernelspec:{\"name\":\"python3\"', 'display_name:\"Python 3\"}', 'language_info:{\"name\":\"python\"}}', 'cells:[{\"cell_type\":\"code\"', 'execution_count:null', 'metadata:{\"id\":\"xS-eAQCFTQGL\"}', 'outputs:[]', 'source:[]}', '{\"cell_type\":\"code\"', 'source:[\"import numpy as np\\\\n\"', 'import pandas as pd\\\\n]', 'metadata:{\"id\":\"wU3kkk4sTWSJ\"', 'executionInfo:{\"status\":\"ok\"', 'timestamp:1728024997389', 'user_tz:-330', 'elapsed:414', 'user:{\"displayName\":\"Tanya Sen\"', 'userId:\"09312349768997804066\"}}}', 'execution_count:2', 'outputs:[]}', '{\"cell_type\":\"code\".1', 'source:[]', 'metadata:{\"id\":\"YuLpVReoZRNK\"}', 'execution_count:null.1', 'outputs:[]}]}']\n",
            "Cleaned column names: ['{\"nbformat\":4', 'nbformat_minor:0', 'metadata:{\"colab\":{\"provenance\":[]', 'mount_file_id:\"1DD6YzGmwvgvRzLVnvJZ-p_Q8c5NmgYm7\"', 'authorship_tag:\"ABX9TyMCi3btHXmZixSUgB/354U0\"}', 'kernelspec:{\"name\":\"python3\"', 'display_name:\"Python 3\"}', 'language_info:{\"name\":\"python\"}}', 'cells:[{\"cell_type\":\"code\"', 'execution_count:null', 'metadata:{\"id\":\"xS-eAQCFTQGL\"}', 'outputs:[]', 'source:[]}', '{\"cell_type\":\"code\"', 'source:[\"import numpy as np\\\\n\"', 'import pandas as pd\\\\n]', 'metadata:{\"id\":\"wU3kkk4sTWSJ\"', 'executionInfo:{\"status\":\"ok\"', 'timestamp:1728024997389', 'user_tz:-330', 'elapsed:414', 'user:{\"displayName\":\"Tanya Sen\"', 'userId:\"09312349768997804066\"}}}', 'execution_count:2', 'outputs:[]}', '{\"cell_type\":\"code\".1', 'source:[]', 'metadata:{\"id\":\"YuLpVReoZRNK\"}', 'execution_count:null.1', 'outputs:[]}]}']\n",
            "Column 'Class' not found.\n",
            "No similar columns found.\n",
            "Remaining columns: ['{\"nbformat\":4', 'nbformat_minor:0', 'metadata:{\"colab\":{\"provenance\":[]', 'mount_file_id:\"1DD6YzGmwvgvRzLVnvJZ-p_Q8c5NmgYm7\"', 'authorship_tag:\"ABX9TyMCi3btHXmZixSUgB/354U0\"}', 'kernelspec:{\"name\":\"python3\"', 'display_name:\"Python 3\"}', 'language_info:{\"name\":\"python\"}}', 'cells:[{\"cell_type\":\"code\"', 'execution_count:null', 'metadata:{\"id\":\"xS-eAQCFTQGL\"}', 'outputs:[]', 'source:[]}', '{\"cell_type\":\"code\"', 'source:[\"import numpy as np\\\\n\"', 'import pandas as pd\\\\n]', 'metadata:{\"id\":\"wU3kkk4sTWSJ\"', 'executionInfo:{\"status\":\"ok\"', 'timestamp:1728024997389', 'user_tz:-330', 'elapsed:414', 'user:{\"displayName\":\"Tanya Sen\"', 'userId:\"09312349768997804066\"}}}', 'execution_count:2', 'outputs:[]}', '{\"cell_type\":\"code\".1', 'source:[]', 'metadata:{\"id\":\"YuLpVReoZRNK\"}', 'execution_count:null.1', 'outputs:[]}]}']\n"
          ]
        }
      ],
      "source": [
        "# Step 1: Print column names\n",
        "print(\"Available columns:\", data.columns.tolist())\n",
        "\n",
        "# Step 2: Clean column names\n",
        "data.columns = data.columns.str.strip()\n",
        "print(\"Cleaned column names:\", data.columns.tolist())\n",
        "\n",
        "# Step 3: Check if 'Class' exists\n",
        "if 'Class' in data.columns:\n",
        "    # Drop the column\n",
        "    X = data.drop(columns='Class')\n",
        "    print(\"Column 'Class' dropped successfully.\")\n",
        "else:\n",
        "    print(\"Column 'Class' not found.\")\n",
        "\n",
        "    # Step 4: Search for similar columns\n",
        "    similar_cols = [col for col in data.columns if 'class' in col.lower()]\n",
        "    if similar_cols:\n",
        "        print(\"Did you mean one of these columns?\", similar_cols)\n",
        "    else:\n",
        "        print(\"No similar columns found.\")\n",
        "\n",
        "    X = data  # Keep the DataFrame unchanged\n",
        "\n",
        "# Print remaining columns\n",
        "print(\"Remaining columns:\", X.columns.tolist())\n"
      ]
    },
    {
      "cell_type": "code",
      "execution_count": null,
      "metadata": {
        "colab": {
          "base_uri": "https://localhost:8080/"
        },
        "id": "JA9t4HkT9UVw",
        "outputId": "4279cab5-5b3b-42f4-f4e0-0506ea4cb688"
      },
      "outputs": [
        {
          "output_type": "stream",
          "name": "stdout",
          "text": [
            "Available columns: ['{\"nbformat\":4', 'nbformat_minor:0', 'metadata:{\"colab\":{\"provenance\":[]', 'mount_file_id:\"1DD6YzGmwvgvRzLVnvJZ-p_Q8c5NmgYm7\"', 'authorship_tag:\"ABX9TyMCi3btHXmZixSUgB/354U0\"}', 'kernelspec:{\"name\":\"python3\"', 'display_name:\"Python 3\"}', 'language_info:{\"name\":\"python\"}}', 'cells:[{\"cell_type\":\"code\"', 'execution_count:null', 'metadata:{\"id\":\"xS-eAQCFTQGL\"}', 'outputs:[]', 'source:[]}', '{\"cell_type\":\"code\"', 'source:[\"import numpy as np\\\\n\"', 'import pandas as pd\\\\n]', 'metadata:{\"id\":\"wU3kkk4sTWSJ\"', 'executionInfo:{\"status\":\"ok\"', 'timestamp:1728024997389', 'user_tz:-330', 'elapsed:414', 'user:{\"displayName\":\"Tanya Sen\"', 'userId:\"09312349768997804066\"}}}', 'execution_count:2', 'outputs:[]}', '{\"cell_type\":\"code\".1', 'source:[]', 'metadata:{\"id\":\"YuLpVReoZRNK\"}', 'execution_count:null.1', 'outputs:[]}]}']\n"
          ]
        }
      ],
      "source": [
        "print(\"Available columns:\", data.columns.tolist())\n"
      ]
    },
    {
      "cell_type": "code",
      "execution_count": null,
      "metadata": {
        "id": "yllrByhW9f3G"
      },
      "outputs": [],
      "source": [
        "data.columns = data.columns.str.strip()  # Remove leading/trailing spaces\n"
      ]
    },
    {
      "cell_type": "code",
      "execution_count": null,
      "metadata": {
        "colab": {
          "base_uri": "https://localhost:8080/"
        },
        "id": "XcJQ2Bb39krc",
        "outputId": "c1e9e324-eb7e-438c-bdaf-54b3e534907f"
      },
      "outputs": [
        {
          "output_type": "stream",
          "name": "stdout",
          "text": [
            "Column 'Class' not found.\n"
          ]
        }
      ],
      "source": [
        "if 'Class' in data.columns:\n",
        "    X = data.drop(columns='Class')\n",
        "    print(\"Column 'Class' dropped.\")\n",
        "else:\n",
        "    print(\"Column 'Class' not found.\")\n"
      ]
    },
    {
      "cell_type": "code",
      "execution_count": null,
      "metadata": {
        "colab": {
          "base_uri": "https://localhost:8080/"
        },
        "id": "nPcSKdG_9ohv",
        "outputId": "89c6824f-eace-4688-df68-5b6896ce7243"
      },
      "outputs": [
        {
          "output_type": "stream",
          "name": "stdout",
          "text": [
            "Columns after dropping: ['{\"nbformat\":4', 'nbformat_minor:0', 'metadata:{\"colab\":{\"provenance\":[]', 'mount_file_id:\"1DD6YzGmwvgvRzLVnvJZ-p_Q8c5NmgYm7\"', 'authorship_tag:\"ABX9TyMCi3btHXmZixSUgB/354U0\"}', 'kernelspec:{\"name\":\"python3\"', 'display_name:\"Python 3\"}', 'language_info:{\"name\":\"python\"}}', 'cells:[{\"cell_type\":\"code\"', 'execution_count:null', 'metadata:{\"id\":\"xS-eAQCFTQGL\"}', 'outputs:[]', 'source:[]}', '{\"cell_type\":\"code\"', 'source:[\"import numpy as np\\\\n\"', 'import pandas as pd\\\\n]', 'metadata:{\"id\":\"wU3kkk4sTWSJ\"', 'executionInfo:{\"status\":\"ok\"', 'timestamp:1728024997389', 'user_tz:-330', 'elapsed:414', 'user:{\"displayName\":\"Tanya Sen\"', 'userId:\"09312349768997804066\"}}}', 'execution_count:2', 'outputs:[]}', '{\"cell_type\":\"code\".1', 'source:[]', 'metadata:{\"id\":\"YuLpVReoZRNK\"}', 'execution_count:null.1', 'outputs:[]}]}']\n"
          ]
        }
      ],
      "source": [
        "X = data.drop(columns='Class', errors='ignore')\n",
        "print(\"Columns after dropping:\", X.columns.tolist())\n"
      ]
    },
    {
      "cell_type": "code",
      "execution_count": null,
      "metadata": {
        "colab": {
          "base_uri": "https://localhost:8080/"
        },
        "id": "JD0zwujw9sYr",
        "outputId": "c2295f71-9c68-47ea-d76c-8311c42f1678"
      },
      "outputs": [
        {
          "output_type": "stream",
          "name": "stdout",
          "text": [
            "Available columns: ['{\"nbformat\":4', 'nbformat_minor:0', 'metadata:{\"colab\":{\"provenance\":[]', 'mount_file_id:\"1DD6YzGmwvgvRzLVnvJZ-p_Q8c5NmgYm7\"', 'authorship_tag:\"ABX9TyMCi3btHXmZixSUgB/354U0\"}', 'kernelspec:{\"name\":\"python3\"', 'display_name:\"Python 3\"}', 'language_info:{\"name\":\"python\"}}', 'cells:[{\"cell_type\":\"code\"', 'execution_count:null', 'metadata:{\"id\":\"xS-eAQCFTQGL\"}', 'outputs:[]', 'source:[]}', '{\"cell_type\":\"code\"', 'source:[\"import numpy as np\\\\n\"', 'import pandas as pd\\\\n]', 'metadata:{\"id\":\"wU3kkk4sTWSJ\"', 'executionInfo:{\"status\":\"ok\"', 'timestamp:1728024997389', 'user_tz:-330', 'elapsed:414', 'user:{\"displayName\":\"Tanya Sen\"', 'userId:\"09312349768997804066\"}}}', 'execution_count:2', 'outputs:[]}', '{\"cell_type\":\"code\".1', 'source:[]', 'metadata:{\"id\":\"YuLpVReoZRNK\"}', 'execution_count:null.1', 'outputs:[]}]}']\n",
            "Cleaned column names: ['{\"nbformat\":4', 'nbformat_minor:0', 'metadata:{\"colab\":{\"provenance\":[]', 'mount_file_id:\"1DD6YzGmwvgvRzLVnvJZ-p_Q8c5NmgYm7\"', 'authorship_tag:\"ABX9TyMCi3btHXmZixSUgB/354U0\"}', 'kernelspec:{\"name\":\"python3\"', 'display_name:\"Python 3\"}', 'language_info:{\"name\":\"python\"}}', 'cells:[{\"cell_type\":\"code\"', 'execution_count:null', 'metadata:{\"id\":\"xS-eAQCFTQGL\"}', 'outputs:[]', 'source:[]}', '{\"cell_type\":\"code\"', 'source:[\"import numpy as np\\\\n\"', 'import pandas as pd\\\\n]', 'metadata:{\"id\":\"wU3kkk4sTWSJ\"', 'executionInfo:{\"status\":\"ok\"', 'timestamp:1728024997389', 'user_tz:-330', 'elapsed:414', 'user:{\"displayName\":\"Tanya Sen\"', 'userId:\"09312349768997804066\"}}}', 'execution_count:2', 'outputs:[]}', '{\"cell_type\":\"code\".1', 'source:[]', 'metadata:{\"id\":\"YuLpVReoZRNK\"}', 'execution_count:null.1', 'outputs:[]}]}']\n",
            "Column 'Class' not found.\n",
            "No similar columns found.\n",
            "Remaining columns: ['{\"nbformat\":4', 'nbformat_minor:0', 'metadata:{\"colab\":{\"provenance\":[]', 'mount_file_id:\"1DD6YzGmwvgvRzLVnvJZ-p_Q8c5NmgYm7\"', 'authorship_tag:\"ABX9TyMCi3btHXmZixSUgB/354U0\"}', 'kernelspec:{\"name\":\"python3\"', 'display_name:\"Python 3\"}', 'language_info:{\"name\":\"python\"}}', 'cells:[{\"cell_type\":\"code\"', 'execution_count:null', 'metadata:{\"id\":\"xS-eAQCFTQGL\"}', 'outputs:[]', 'source:[]}', '{\"cell_type\":\"code\"', 'source:[\"import numpy as np\\\\n\"', 'import pandas as pd\\\\n]', 'metadata:{\"id\":\"wU3kkk4sTWSJ\"', 'executionInfo:{\"status\":\"ok\"', 'timestamp:1728024997389', 'user_tz:-330', 'elapsed:414', 'user:{\"displayName\":\"Tanya Sen\"', 'userId:\"09312349768997804066\"}}}', 'execution_count:2', 'outputs:[]}', '{\"cell_type\":\"code\".1', 'source:[]', 'metadata:{\"id\":\"YuLpVReoZRNK\"}', 'execution_count:null.1', 'outputs:[]}]}']\n"
          ]
        }
      ],
      "source": [
        "# Step 1: Print all column names\n",
        "print(\"Available columns:\", data.columns.tolist())\n",
        "\n",
        "# Step 2: Clean column names\n",
        "data.columns = data.columns.str.strip()\n",
        "print(\"Cleaned column names:\", data.columns.tolist())\n",
        "\n",
        "# Step 3: Check if 'Class' exists\n",
        "if 'Class' in data.columns:\n",
        "    # Drop the column\n",
        "    X = data.drop(columns='Class')\n",
        "    print(\"Column 'Class' dropped successfully.\")\n",
        "else:\n",
        "    print(\"Column 'Class' not found.\")\n",
        "\n",
        "    # Step 4: Search for similar columns\n",
        "    similar_cols = [col for col in data.columns if 'class' in col.lower()]\n",
        "    if similar_cols:\n",
        "        print(\"Did you mean one of these columns?\", similar_cols)\n",
        "    else:\n",
        "        print(\"No similar columns found.\")\n",
        "\n",
        "    X = data  # Keep the DataFrame unchanged\n",
        "\n",
        "# Step 5: Print remaining columns\n",
        "print(\"Remaining columns:\", X.columns.tolist())\n"
      ]
    },
    {
      "cell_type": "code",
      "execution_count": null,
      "metadata": {
        "colab": {
          "base_uri": "https://localhost:8080/"
        },
        "id": "Qkx0QG2y-WJQ",
        "outputId": "8a060772-7b6d-4f7c-f891-e07036e7a023"
      },
      "outputs": [
        {
          "output_type": "stream",
          "name": "stdout",
          "text": [
            "Empty DataFrame\n",
            "Columns: [{\"nbformat\":4, nbformat_minor:0, metadata:{\"colab\":{\"provenance\":[], mount_file_id:\"1DD6YzGmwvgvRzLVnvJZ-p_Q8c5NmgYm7\", authorship_tag:\"ABX9TyMCi3btHXmZixSUgB/354U0\"}, kernelspec:{\"name\":\"python3\", display_name:\"Python 3\"}, language_info:{\"name\":\"python\"}}, cells:[{\"cell_type\":\"code\", execution_count:null, metadata:{\"id\":\"xS-eAQCFTQGL\"}, outputs:[], source:[]}, {\"cell_type\":\"code\", source:[\"import numpy as np\\n\", import pandas as pd\\n], metadata:{\"id\":\"wU3kkk4sTWSJ\", executionInfo:{\"status\":\"ok\", timestamp:1728024997389, user_tz:-330, elapsed:414, user:{\"displayName\":\"Tanya Sen\", userId:\"09312349768997804066\"}}}, execution_count:2, outputs:[]}, {\"cell_type\":\"code\".1, source:[], metadata:{\"id\":\"YuLpVReoZRNK\"}, execution_count:null.1, outputs:[]}]}]\n",
            "Index: []\n",
            "\n",
            "[0 rows x 30 columns]\n",
            "Index(['{\"nbformat\":4', 'nbformat_minor:0',\n",
            "       'metadata:{\"colab\":{\"provenance\":[]',\n",
            "       'mount_file_id:\"1DD6YzGmwvgvRzLVnvJZ-p_Q8c5NmgYm7\"',\n",
            "       'authorship_tag:\"ABX9TyMCi3btHXmZixSUgB/354U0\"}',\n",
            "       'kernelspec:{\"name\":\"python3\"', 'display_name:\"Python 3\"}',\n",
            "       'language_info:{\"name\":\"python\"}}', 'cells:[{\"cell_type\":\"code\"',\n",
            "       'execution_count:null', 'metadata:{\"id\":\"xS-eAQCFTQGL\"}', 'outputs:[]',\n",
            "       'source:[]}', '{\"cell_type\":\"code\"', 'source:[\"import numpy as np\\n\"',\n",
            "       'import pandas as pd\\n]', 'metadata:{\"id\":\"wU3kkk4sTWSJ\"',\n",
            "       'executionInfo:{\"status\":\"ok\"', 'timestamp:1728024997389',\n",
            "       'user_tz:-330', 'elapsed:414', 'user:{\"displayName\":\"Tanya Sen\"',\n",
            "       'userId:\"09312349768997804066\"}}}', 'execution_count:2', 'outputs:[]}',\n",
            "       '{\"cell_type\":\"code\".1', 'source:[]', 'metadata:{\"id\":\"YuLpVReoZRNK\"}',\n",
            "       'execution_count:null.1', 'outputs:[]}]}'],\n",
            "      dtype='object')\n"
          ]
        }
      ],
      "source": [
        "print(X.head())\n",
        "print(X.columns)\n"
      ]
    },
    {
      "cell_type": "code",
      "execution_count": null,
      "metadata": {
        "colab": {
          "base_uri": "https://localhost:8080/"
        },
        "id": "EsOLFwIR-2am",
        "outputId": "04056248-ab45-4b04-b6b9-35a1193bb5eb"
      },
      "outputs": [
        {
          "output_type": "stream",
          "name": "stdout",
          "text": [
            "Available columns: ['{\"nbformat\":4', 'nbformat_minor:0', 'metadata:{\"colab\":{\"provenance\":[]', 'mount_file_id:\"1DD6YzGmwvgvRzLVnvJZ-p_Q8c5NmgYm7\"', 'authorship_tag:\"ABX9TyMCi3btHXmZixSUgB/354U0\"}', 'kernelspec:{\"name\":\"python3\"', 'display_name:\"Python 3\"}', 'language_info:{\"name\":\"python\"}}', 'cells:[{\"cell_type\":\"code\"', 'execution_count:null', 'metadata:{\"id\":\"xS-eAQCFTQGL\"}', 'outputs:[]', 'source:[]}', '{\"cell_type\":\"code\"', 'source:[\"import numpy as np\\\\n\"', 'import pandas as pd\\\\n]', 'metadata:{\"id\":\"wU3kkk4sTWSJ\"', 'executionInfo:{\"status\":\"ok\"', 'timestamp:1728024997389', 'user_tz:-330', 'elapsed:414', 'user:{\"displayName\":\"Tanya Sen\"', 'userId:\"09312349768997804066\"}}}', 'execution_count:2', 'outputs:[]}', '{\"cell_type\":\"code\".1', 'source:[]', 'metadata:{\"id\":\"YuLpVReoZRNK\"}', 'execution_count:null.1', 'outputs:[]}]}']\n"
          ]
        }
      ],
      "source": [
        "print(\"Available columns:\", data.columns.tolist())\n"
      ]
    },
    {
      "cell_type": "code",
      "execution_count": null,
      "metadata": {
        "colab": {
          "base_uri": "https://localhost:8080/"
        },
        "id": "w8LZNz7-_Ewt",
        "outputId": "ea886d29-fdc0-4629-f11d-3b3bc9c34899"
      },
      "outputs": [
        {
          "output_type": "stream",
          "name": "stdout",
          "text": [
            "Available columns in the DataFrame: ['{\"nbformat\":4', 'nbformat_minor:0', 'metadata:{\"colab\":{\"provenance\":[]', 'mount_file_id:\"1DD6YzGmwvgvRzLVnvJZ-p_Q8c5NmgYm7\"', 'authorship_tag:\"ABX9TyMCi3btHXmZixSUgB/354U0\"}', 'kernelspec:{\"name\":\"python3\"', 'display_name:\"Python 3\"}', 'language_info:{\"name\":\"python\"}}', 'cells:[{\"cell_type\":\"code\"', 'execution_count:null', 'metadata:{\"id\":\"xS-eAQCFTQGL\"}', 'outputs:[]', 'source:[]}', '{\"cell_type\":\"code\"', 'source:[\"import numpy as np\\\\n\"', 'import pandas as pd\\\\n]', 'metadata:{\"id\":\"wU3kkk4sTWSJ\"', 'executionInfo:{\"status\":\"ok\"', 'timestamp:1728024997389', 'user_tz:-330', 'elapsed:414', 'user:{\"displayName\":\"Tanya Sen\"', 'userId:\"09312349768997804066\"}}}', 'execution_count:2', 'outputs:[]}', '{\"cell_type\":\"code\".1', 'source:[]', 'metadata:{\"id\":\"YuLpVReoZRNK\"}', 'execution_count:null.1', 'outputs:[]}]}']\n"
          ]
        }
      ],
      "source": [
        "print(\"Available columns in the DataFrame:\", data.columns.tolist())\n"
      ]
    },
    {
      "cell_type": "code",
      "execution_count": null,
      "metadata": {
        "colab": {
          "base_uri": "https://localhost:8080/"
        },
        "id": "bL1CQfy6A8V6",
        "outputId": "3c8946ef-54c3-4b1b-fb38-f7a8013c51b2"
      },
      "outputs": [
        {
          "output_type": "stream",
          "name": "stdout",
          "text": [
            "Empty DataFrame\n",
            "Columns: [{\"nbformat\":4, nbformat_minor:0, metadata:{\"colab\":{\"provenance\":[], mount_file_id:\"1DD6YzGmwvgvRzLVnvJZ-p_Q8c5NmgYm7\", authorship_tag:\"ABX9TyMCi3btHXmZixSUgB/354U0\"}, kernelspec:{\"name\":\"python3\", display_name:\"Python 3\"}, language_info:{\"name\":\"python\"}}, cells:[{\"cell_type\":\"code\", execution_count:null, metadata:{\"id\":\"xS-eAQCFTQGL\"}, outputs:[], source:[]}, {\"cell_type\":\"code\", source:[\"import numpy as np\\n\", import pandas as pd\\n], metadata:{\"id\":\"wU3kkk4sTWSJ\", executionInfo:{\"status\":\"ok\", timestamp:1728024997389, user_tz:-330, elapsed:414, user:{\"displayName\":\"Tanya Sen\", userId:\"09312349768997804066\"}}}, execution_count:2, outputs:[]}, {\"cell_type\":\"code\".1, source:[], metadata:{\"id\":\"YuLpVReoZRNK\"}, execution_count:null.1, outputs:[]}]}]\n",
            "Index: []\n",
            "\n",
            "[0 rows x 30 columns]\n"
          ]
        }
      ],
      "source": [
        "print(data.head())"
      ]
    },
    {
      "cell_type": "code",
      "execution_count": null,
      "metadata": {
        "id": "n31qieKOBUw-"
      },
      "outputs": [],
      "source": [
        "Y = data.drop(columns='Class', axis=1, errors='ignore')"
      ]
    },
    {
      "cell_type": "code",
      "execution_count": null,
      "metadata": {
        "colab": {
          "base_uri": "https://localhost:8080/"
        },
        "id": "YrBJ63xYBjBW",
        "outputId": "99b3496f-eb94-4501-86dc-5060475dcc14"
      },
      "outputs": [
        {
          "output_type": "stream",
          "name": "stdout",
          "text": [
            "[]\n"
          ]
        }
      ],
      "source": [
        "print([col for col in data.columns if 'class' in col.lower()])"
      ]
    },
    {
      "cell_type": "code",
      "execution_count": null,
      "metadata": {
        "id": "rwczKO-KCKfv"
      },
      "outputs": [],
      "source": [
        "data.columns = data.columns.str.strip()"
      ]
    },
    {
      "cell_type": "code",
      "execution_count": null,
      "metadata": {
        "colab": {
          "base_uri": "https://localhost:8080/"
        },
        "id": "pwQcSgT3CPcC",
        "outputId": "e4ad1a34-b94d-45eb-e68a-9f4a86ea95c2"
      },
      "outputs": [
        {
          "output_type": "stream",
          "name": "stdout",
          "text": [
            "Index(['{\"nbformat\":4', 'nbformat_minor:0',\n",
            "       'metadata:{\"colab\":{\"provenance\":[]',\n",
            "       'mount_file_id:\"1DD6YzGmwvgvRzLVnvJZ-p_Q8c5NmgYm7\"',\n",
            "       'authorship_tag:\"ABX9TyMCi3btHXmZixSUgB/354U0\"}',\n",
            "       'kernelspec:{\"name\":\"python3\"', 'display_name:\"Python 3\"}',\n",
            "       'language_info:{\"name\":\"python\"}}', 'cells:[{\"cell_type\":\"code\"',\n",
            "       'execution_count:null', 'metadata:{\"id\":\"xS-eAQCFTQGL\"}', 'outputs:[]',\n",
            "       'source:[]}', '{\"cell_type\":\"code\"', 'source:[\"import numpy as np\\n\"',\n",
            "       'import pandas as pd\\n]', 'metadata:{\"id\":\"wU3kkk4sTWSJ\"',\n",
            "       'executionInfo:{\"status\":\"ok\"', 'timestamp:1728024997389',\n",
            "       'user_tz:-330', 'elapsed:414', 'user:{\"displayName\":\"Tanya Sen\"',\n",
            "       'userId:\"09312349768997804066\"}}}', 'execution_count:2', 'outputs:[]}',\n",
            "       '{\"cell_type\":\"code\".1', 'source:[]', 'metadata:{\"id\":\"YuLpVReoZRNK\"}',\n",
            "       'execution_count:null.1', 'outputs:[]}]}'],\n",
            "      dtype='object')\n"
          ]
        }
      ],
      "source": [
        "print(data.columns)"
      ]
    },
    {
      "cell_type": "code",
      "execution_count": null,
      "metadata": {
        "colab": {
          "base_uri": "https://localhost:8080/"
        },
        "id": "pKOi2c5YCYfl",
        "outputId": "ac9d2688-37f4-4088-e82a-0bce062f00dc"
      },
      "outputs": [
        {
          "output_type": "stream",
          "name": "stdout",
          "text": [
            "Index(['{\"nbformat\":4', 'nbformat_minor:0',\n",
            "       'metadata:{\"colab\":{\"provenance\":[]',\n",
            "       'mount_file_id:\"1DD6YzGmwvgvRzLVnvJZ-p_Q8c5NmgYm7\"',\n",
            "       'authorship_tag:\"ABX9TyMCi3btHXmZixSUgB/354U0\"}',\n",
            "       'kernelspec:{\"name\":\"python3\"', 'display_name:\"Python 3\"}',\n",
            "       'language_info:{\"name\":\"python\"}}', 'cells:[{\"cell_type\":\"code\"',\n",
            "       'execution_count:null', 'metadata:{\"id\":\"xS-eAQCFTQGL\"}', 'outputs:[]',\n",
            "       'source:[]}', '{\"cell_type\":\"code\"', 'source:[\"import numpy as np\\n\"',\n",
            "       'import pandas as pd\\n]', 'metadata:{\"id\":\"wU3kkk4sTWSJ\"',\n",
            "       'executionInfo:{\"status\":\"ok\"', 'timestamp:1728024997389',\n",
            "       'user_tz:-330', 'elapsed:414', 'user:{\"displayName\":\"Tanya Sen\"',\n",
            "       'userId:\"09312349768997804066\"}}}', 'execution_count:2', 'outputs:[]}',\n",
            "       '{\"cell_type\":\"code\".1', 'source:[]', 'metadata:{\"id\":\"YuLpVReoZRNK\"}',\n",
            "       'execution_count:null.1', 'outputs:[]}]}'],\n",
            "      dtype='object')\n"
          ]
        }
      ],
      "source": [
        "Y = data.drop(columns='Class', errors='ignore')\n",
        "print(X.columns)"
      ]
    },
    {
      "cell_type": "code",
      "execution_count": null,
      "metadata": {
        "colab": {
          "base_uri": "https://localhost:8080/"
        },
        "id": "yaYsdAY2Cmdg",
        "outputId": "803b64d6-480a-4a55-c477-3a02a13bc5fe"
      },
      "outputs": [
        {
          "output_type": "stream",
          "name": "stdout",
          "text": [
            "Empty DataFrame\n",
            "Columns: [{\"nbformat\":4, nbformat_minor:0, metadata:{\"colab\":{\"provenance\":[], mount_file_id:\"1DD6YzGmwvgvRzLVnvJZ-p_Q8c5NmgYm7\", authorship_tag:\"ABX9TyMCi3btHXmZixSUgB/354U0\"}, kernelspec:{\"name\":\"python3\", display_name:\"Python 3\"}, language_info:{\"name\":\"python\"}}, cells:[{\"cell_type\":\"code\", execution_count:null, metadata:{\"id\":\"xS-eAQCFTQGL\"}, outputs:[], source:[]}, {\"cell_type\":\"code\", source:[\"import numpy as np\\n\", import pandas as pd\\n], metadata:{\"id\":\"wU3kkk4sTWSJ\", executionInfo:{\"status\":\"ok\", timestamp:1728024997389, user_tz:-330, elapsed:414, user:{\"displayName\":\"Tanya Sen\", userId:\"09312349768997804066\"}}}, execution_count:2, outputs:[]}, {\"cell_type\":\"code\".1, source:[], metadata:{\"id\":\"YuLpVReoZRNK\"}, execution_count:null.1, outputs:[]}]}]\n",
            "Index: []\n",
            "\n",
            "[0 rows x 30 columns]\n"
          ]
        }
      ],
      "source": [
        "print(data.head())"
      ]
    },
    {
      "cell_type": "code",
      "execution_count": null,
      "metadata": {
        "colab": {
          "base_uri": "https://localhost:8080/"
        },
        "id": "Y6wy1SuMCztf",
        "outputId": "9fb9883d-d2c2-45b2-cf1d-953cdbddbcca"
      },
      "outputs": [
        {
          "output_type": "stream",
          "name": "stdout",
          "text": [
            "{\"nbformat\":4                                        0\n",
            "nbformat_minor:0                                     0\n",
            "metadata:{\"colab\":{\"provenance\":[]                   0\n",
            "mount_file_id:\"1DD6YzGmwvgvRzLVnvJZ-p_Q8c5NmgYm7\"    0\n",
            "authorship_tag:\"ABX9TyMCi3btHXmZixSUgB/354U0\"}       0\n",
            "kernelspec:{\"name\":\"python3\"                         0\n",
            "display_name:\"Python 3\"}                             0\n",
            "language_info:{\"name\":\"python\"}}                     0\n",
            "cells:[{\"cell_type\":\"code\"                           0\n",
            "execution_count:null                                 0\n",
            "metadata:{\"id\":\"xS-eAQCFTQGL\"}                       0\n",
            "outputs:[]                                           0\n",
            "source:[]}                                           0\n",
            "{\"cell_type\":\"code\"                                  0\n",
            "source:[\"import numpy as np\\n\"                       0\n",
            "import pandas as pd\\n]                               0\n",
            "metadata:{\"id\":\"wU3kkk4sTWSJ\"                        0\n",
            "executionInfo:{\"status\":\"ok\"                         0\n",
            "timestamp:1728024997389                              0\n",
            "user_tz:-330                                         0\n",
            "elapsed:414                                          0\n",
            "user:{\"displayName\":\"Tanya Sen\"                      0\n",
            "userId:\"09312349768997804066\"}}}                     0\n",
            "execution_count:2                                    0\n",
            "outputs:[]}                                          0\n",
            "{\"cell_type\":\"code\".1                                0\n",
            "source:[]                                            0\n",
            "metadata:{\"id\":\"YuLpVReoZRNK\"}                       0\n",
            "execution_count:null.1                               0\n",
            "outputs:[]}]}                                        0\n",
            "dtype: int64\n"
          ]
        }
      ],
      "source": [
        "print(pd.isnull(Y).sum())"
      ]
    },
    {
      "cell_type": "code",
      "execution_count": null,
      "metadata": {
        "id": "9hU-SFqfDG8u"
      },
      "outputs": [],
      "source": [
        "X = X[~pd.isnull(Y)]\n",
        "Y = Y.dropna()"
      ]
    },
    {
      "cell_type": "code",
      "execution_count": null,
      "metadata": {
        "id": "ckPFE1V7DU1b"
      },
      "outputs": [],
      "source": [
        "Y = Y.fillna(0)"
      ]
    },
    {
      "cell_type": "code",
      "execution_count": null,
      "metadata": {
        "id": "21WEpUjhEIob"
      },
      "outputs": [],
      "source": [
        "Y = Y.dropna()"
      ]
    },
    {
      "cell_type": "code",
      "execution_count": null,
      "metadata": {
        "colab": {
          "base_uri": "https://localhost:8080/"
        },
        "id": "fgT26PNiEU1M",
        "outputId": "9f8fd59f-f1c9-49a4-c227-8d410a8d8feb"
      },
      "outputs": [
        {
          "output_type": "stream",
          "name": "stdout",
          "text": [
            "{\"nbformat\":4                                        0\n",
            "nbformat_minor:0                                     0\n",
            "metadata:{\"colab\":{\"provenance\":[]                   0\n",
            "mount_file_id:\"1DD6YzGmwvgvRzLVnvJZ-p_Q8c5NmgYm7\"    0\n",
            "authorship_tag:\"ABX9TyMCi3btHXmZixSUgB/354U0\"}       0\n",
            "kernelspec:{\"name\":\"python3\"                         0\n",
            "display_name:\"Python 3\"}                             0\n",
            "language_info:{\"name\":\"python\"}}                     0\n",
            "cells:[{\"cell_type\":\"code\"                           0\n",
            "execution_count:null                                 0\n",
            "metadata:{\"id\":\"xS-eAQCFTQGL\"}                       0\n",
            "outputs:[]                                           0\n",
            "source:[]}                                           0\n",
            "{\"cell_type\":\"code\"                                  0\n",
            "source:[\"import numpy as np\\n\"                       0\n",
            "import pandas as pd\\n]                               0\n",
            "metadata:{\"id\":\"wU3kkk4sTWSJ\"                        0\n",
            "executionInfo:{\"status\":\"ok\"                         0\n",
            "timestamp:1728024997389                              0\n",
            "user_tz:-330                                         0\n",
            "elapsed:414                                          0\n",
            "user:{\"displayName\":\"Tanya Sen\"                      0\n",
            "userId:\"09312349768997804066\"}}}                     0\n",
            "execution_count:2                                    0\n",
            "outputs:[]}                                          0\n",
            "{\"cell_type\":\"code\".1                                0\n",
            "source:[]                                            0\n",
            "metadata:{\"id\":\"YuLpVReoZRNK\"}                       0\n",
            "execution_count:null.1                               0\n",
            "outputs:[]}]}                                        0\n",
            "dtype: int64\n"
          ]
        }
      ],
      "source": [
        "print(pd.isnull(Y).sum())"
      ]
    },
    {
      "cell_type": "code",
      "execution_count": null,
      "metadata": {
        "id": "U_P0X9BLEftz"
      },
      "outputs": [],
      "source": [
        "min_len = min(len(X), len(Y))\n",
        "X = X[:min_len]\n",
        "Y = Y[:min_len]"
      ]
    },
    {
      "cell_type": "code",
      "execution_count": null,
      "metadata": {
        "colab": {
          "base_uri": "https://localhost:8080/"
        },
        "id": "ErjtUGzKEn_4",
        "outputId": "1085e584-b8bc-4b41-b040-3efb1c68be5d"
      },
      "outputs": [
        {
          "output_type": "stream",
          "name": "stdout",
          "text": [
            "(0, 30)\n",
            "(0, 30)\n"
          ]
        }
      ],
      "source": [
        "print(X.shape)  # Ensure X is a valid DataFrame or array\n",
        "print(Y.shape)  # Ensure Y is a valid Series or array"
      ]
    },
    {
      "cell_type": "code",
      "execution_count": null,
      "metadata": {
        "colab": {
          "base_uri": "https://localhost:8080/"
        },
        "id": "yn7LcmdvE6-x",
        "outputId": "21042f66-fb45-4033-a235-d805e5ce7a09"
      },
      "outputs": [
        {
          "output_type": "stream",
          "name": "stdout",
          "text": [
            "Shape of X: (0, 30)\n",
            "Shape of Y: (0, 30)\n"
          ]
        }
      ],
      "source": [
        "print(\"Shape of X:\", X.shape)\n",
        "print(\"Shape of Y:\", Y.shape)"
      ]
    },
    {
      "cell_type": "code",
      "execution_count": null,
      "metadata": {
        "colab": {
          "base_uri": "https://localhost:8080/"
        },
        "id": "b4LN99nYFA0p",
        "outputId": "ae57c9af-dcdc-48a9-8910-2f772134d180"
      },
      "outputs": [
        {
          "output_type": "stream",
          "name": "stdout",
          "text": [
            "Missing values in X: {\"nbformat\":4                                        0\n",
            "nbformat_minor:0                                     0\n",
            "metadata:{\"colab\":{\"provenance\":[]                   0\n",
            "mount_file_id:\"1DD6YzGmwvgvRzLVnvJZ-p_Q8c5NmgYm7\"    0\n",
            "authorship_tag:\"ABX9TyMCi3btHXmZixSUgB/354U0\"}       0\n",
            "kernelspec:{\"name\":\"python3\"                         0\n",
            "display_name:\"Python 3\"}                             0\n",
            "language_info:{\"name\":\"python\"}}                     0\n",
            "cells:[{\"cell_type\":\"code\"                           0\n",
            "execution_count:null                                 0\n",
            "metadata:{\"id\":\"xS-eAQCFTQGL\"}                       0\n",
            "outputs:[]                                           0\n",
            "source:[]}                                           0\n",
            "{\"cell_type\":\"code\"                                  0\n",
            "source:[\"import numpy as np\\n\"                       0\n",
            "import pandas as pd\\n]                               0\n",
            "metadata:{\"id\":\"wU3kkk4sTWSJ\"                        0\n",
            "executionInfo:{\"status\":\"ok\"                         0\n",
            "timestamp:1728024997389                              0\n",
            "user_tz:-330                                         0\n",
            "elapsed:414                                          0\n",
            "user:{\"displayName\":\"Tanya Sen\"                      0\n",
            "userId:\"09312349768997804066\"}}}                     0\n",
            "execution_count:2                                    0\n",
            "outputs:[]}                                          0\n",
            "{\"cell_type\":\"code\".1                                0\n",
            "source:[]                                            0\n",
            "metadata:{\"id\":\"YuLpVReoZRNK\"}                       0\n",
            "execution_count:null.1                               0\n",
            "outputs:[]}]}                                        0\n",
            "dtype: int64\n",
            "Missing values in Y: {\"nbformat\":4                                        0\n",
            "nbformat_minor:0                                     0\n",
            "metadata:{\"colab\":{\"provenance\":[]                   0\n",
            "mount_file_id:\"1DD6YzGmwvgvRzLVnvJZ-p_Q8c5NmgYm7\"    0\n",
            "authorship_tag:\"ABX9TyMCi3btHXmZixSUgB/354U0\"}       0\n",
            "kernelspec:{\"name\":\"python3\"                         0\n",
            "display_name:\"Python 3\"}                             0\n",
            "language_info:{\"name\":\"python\"}}                     0\n",
            "cells:[{\"cell_type\":\"code\"                           0\n",
            "execution_count:null                                 0\n",
            "metadata:{\"id\":\"xS-eAQCFTQGL\"}                       0\n",
            "outputs:[]                                           0\n",
            "source:[]}                                           0\n",
            "{\"cell_type\":\"code\"                                  0\n",
            "source:[\"import numpy as np\\n\"                       0\n",
            "import pandas as pd\\n]                               0\n",
            "metadata:{\"id\":\"wU3kkk4sTWSJ\"                        0\n",
            "executionInfo:{\"status\":\"ok\"                         0\n",
            "timestamp:1728024997389                              0\n",
            "user_tz:-330                                         0\n",
            "elapsed:414                                          0\n",
            "user:{\"displayName\":\"Tanya Sen\"                      0\n",
            "userId:\"09312349768997804066\"}}}                     0\n",
            "execution_count:2                                    0\n",
            "outputs:[]}                                          0\n",
            "{\"cell_type\":\"code\".1                                0\n",
            "source:[]                                            0\n",
            "metadata:{\"id\":\"YuLpVReoZRNK\"}                       0\n",
            "execution_count:null.1                               0\n",
            "outputs:[]}]}                                        0\n",
            "dtype: int64\n"
          ]
        }
      ],
      "source": [
        "#Check if there are any missing values left\n",
        "print(\"Missing values in X:\", X.isnull().sum())\n",
        "print(\"Missing values in Y:\", Y.isnull().sum())"
      ]
    },
    {
      "cell_type": "code",
      "execution_count": null,
      "metadata": {
        "id": "ckN6Qj6DFGmc"
      },
      "outputs": [],
      "source": [
        "X = X[~Y.isnull()]  # Make sure X is not empty after filtering\n",
        "Y = Y.dropna()"
      ]
    },
    {
      "cell_type": "code",
      "execution_count": null,
      "metadata": {
        "colab": {
          "base_uri": "https://localhost:8080/"
        },
        "id": "gtlgN80dHiQD",
        "outputId": "7b11e3e8-340f-47d4-c395-ec6641fea91b"
      },
      "outputs": [
        {
          "output_type": "stream",
          "name": "stdout",
          "text": [
            "(80, 10)\n"
          ]
        }
      ],
      "source": [
        "from sklearn.model_selection import train_test_split\n",
        "import numpy as np\n",
        "# Example data\n",
        "X = np.random.rand(100, 10)  # 100 samples with 10 features each\n",
        "y = np.random.rand(100)      # Target variable\n",
        "\n",
        "# Split into training and testing sets\n",
        "X_train, X_test, y_train, y_test = train_test_split(X, y, test_size=0.2, random_state=42)\n",
        "\n",
        "# Now, X_train is defined, and you can check its shape\n",
        "print(X_train.shape)"
      ]
    },
    {
      "cell_type": "code",
      "execution_count": null,
      "metadata": {
        "colab": {
          "base_uri": "https://localhost:8080/"
        },
        "id": "gTcncUQbIP1T",
        "outputId": "533cc1b1-6dc2-4593-9956-48fe870374a9"
      },
      "outputs": [
        {
          "output_type": "stream",
          "name": "stdout",
          "text": [
            "An error occurred: name 'X_cleaned' is not defined\n"
          ]
        }
      ],
      "source": [
        "try:\n",
        "    # Check if X and Y are empty after cleaning\n",
        "    if X_cleaned.empty or Y_cleaned.empty:\n",
        "        print(\"Error: X or Y is empty after data cleaning. Please review your data cleaning steps.\")\n",
        "    else:\n",
        "        # Perform the train-test split with stratification\n",
        "        X_train, X_test, Y_train, Y_test = train_test_split(X_cleaned, Y_cleaned, test_size=0.2, stratify=Y_cleaned, random_state=2)\n",
        "\n",
        "        # Print the shapes of the resulting sets\n",
        "        print(\"Training set shape:\", X_train.shape)\n",
        "        print(\"Test set shape:\", X_test.shape)\n",
        "\n",
        "except Exception as e:\n",
        "    print(\"An error occurred:\", e)\n"
      ]
    },
    {
      "cell_type": "code",
      "execution_count": null,
      "metadata": {
        "colab": {
          "base_uri": "https://localhost:8080/"
        },
        "id": "CzHAfQDsIfmD",
        "outputId": "9bafdc85-fa22-4bc6-e65c-a1c4e1b25697"
      },
      "outputs": [
        {
          "data": {
            "text/plain": [
              "(80, 10)"
            ]
          },
          "execution_count": 65,
          "metadata": {},
          "output_type": "execute_result"
        }
      ],
      "source": [
        "X_train.shape"
      ]
    },
    {
      "cell_type": "code",
      "execution_count": null,
      "metadata": {
        "colab": {
          "base_uri": "https://localhost:8080/"
        },
        "id": "A_IASIPMIsP1",
        "outputId": "7b1062d4-c117-4411-8a55-964bcdf2b7ff"
      },
      "outputs": [
        {
          "data": {
            "text/plain": [
              "(20, 10)"
            ]
          },
          "execution_count": 66,
          "metadata": {},
          "output_type": "execute_result"
        }
      ],
      "source": [
        "X_test.shape"
      ]
    },
    {
      "cell_type": "code",
      "execution_count": null,
      "metadata": {
        "colab": {
          "base_uri": "https://localhost:8080/"
        },
        "id": "yQn9mYIoIy-G",
        "outputId": "a82ca257-2771-4bb4-e144-f9afc1587351"
      },
      "outputs": [
        {
          "name": "stdout",
          "output_type": "stream",
          "text": [
            "Y_train is not defined. Please ensure it is initialized.\n"
          ]
        }
      ],
      "source": [
        "try:\n",
        "    print(Y_train.shape)\n",
        "except NameError:\n",
        "    print(\"Y_train is not defined. Please ensure it is initialized.\")"
      ]
    },
    {
      "cell_type": "code",
      "execution_count": null,
      "metadata": {
        "id": "E0ApZ2a1I9LR"
      },
      "outputs": [],
      "source": [
        "from sklearn.model_selection import train_test_split\n",
        "import numpy as np\n",
        "\n",
        "# Example data\n",
        "X = np.random.rand(100, 10)  # 100 samples with 10 features each\n",
        "y = np.random.randint(0, 2, size=100)"
      ]
    },
    {
      "cell_type": "code",
      "execution_count": null,
      "metadata": {
        "colab": {
          "base_uri": "https://localhost:8080/"
        },
        "id": "wUuho0u5JE4R",
        "outputId": "b0e51a96-550a-4b6b-fbd5-9edddd73c598"
      },
      "outputs": [
        {
          "output_type": "stream",
          "name": "stdout",
          "text": [
            "(80,)\n"
          ]
        }
      ],
      "source": [
        "# Split data into training and testing sets\n",
        "X_train, X_test, Y_train, Y_test = train_test_split(X, y, test_size=0.2, random_state=42)\n",
        "\n",
        "# Check Y_train shape\n",
        "print(Y_train.shape)"
      ]
    },
    {
      "cell_type": "code",
      "execution_count": null,
      "metadata": {
        "colab": {
          "base_uri": "https://localhost:8080/"
        },
        "id": "ZggG6jsWJUuc",
        "outputId": "d0852509-3b13-431a-bb35-181346420954"
      },
      "outputs": [
        {
          "output_type": "execute_result",
          "data": {
            "text/plain": [
              "(80,)"
            ]
          },
          "metadata": {},
          "execution_count": 64
        }
      ],
      "source": [
        "Y_train.shape"
      ]
    },
    {
      "cell_type": "code",
      "execution_count": null,
      "metadata": {
        "colab": {
          "base_uri": "https://localhost:8080/"
        },
        "id": "TO6KwYO9JYjr",
        "outputId": "e8a482c2-a947-4869-a59c-e2435adb40c1"
      },
      "outputs": [
        {
          "output_type": "execute_result",
          "data": {
            "text/plain": [
              "(20,)"
            ]
          },
          "metadata": {},
          "execution_count": 65
        }
      ],
      "source": [
        "Y_test.shape"
      ]
    },
    {
      "cell_type": "code",
      "execution_count": null,
      "metadata": {
        "colab": {
          "base_uri": "https://localhost:8080/"
        },
        "id": "NB-gz-yTJc3t",
        "outputId": "4706b361-30f7-40f6-b4b1-b3db6a9064fe"
      },
      "outputs": [
        {
          "output_type": "execute_result",
          "data": {
            "text/plain": [
              "array([[0.21993164, 0.48833339, 0.5312263 , 0.04436496, 0.51476139,\n",
              "        0.45914297, 0.32492506, 0.48301518, 0.35716505, 0.73213631],\n",
              "       [0.13205589, 0.10224798, 0.52083577, 0.94839152, 0.20422426,\n",
              "        0.34323105, 0.74643337, 0.0194394 , 0.91996848, 0.31840164],\n",
              "       [0.12831828, 0.552022  , 0.281016  , 0.85870518, 0.68158902,\n",
              "        0.19082886, 0.75160862, 0.07311817, 0.32893481, 0.6841237 ],\n",
              "       [0.46776648, 0.43787994, 0.56722234, 0.99490479, 0.81635481,\n",
              "        0.73631349, 0.81182559, 0.43347488, 0.30037653, 0.29653434],\n",
              "       [0.75975141, 0.55634295, 0.21653604, 0.13904068, 0.71018367,\n",
              "        0.16696748, 0.00965985, 0.96098217, 0.24177122, 0.71236113],\n",
              "       [0.79539411, 0.33992709, 0.53606616, 0.19875548, 0.34715476,\n",
              "        0.62638425, 0.84124725, 0.55310261, 0.19165537, 0.86817779],\n",
              "       [0.94428192, 0.20271822, 0.31568572, 0.30095918, 0.2998685 ,\n",
              "        0.897085  , 0.94116517, 0.53345593, 0.32639729, 0.72869456],\n",
              "       [0.89456619, 0.03670419, 0.47639013, 0.33584887, 0.28005288,\n",
              "        0.78529538, 0.13000441, 0.11240728, 0.56230482, 0.71587433],\n",
              "       [0.99285894, 0.88930795, 0.09863004, 0.52742611, 0.37553295,\n",
              "        0.07190735, 0.35646075, 0.991576  , 0.09468319, 0.40199775],\n",
              "       [0.51945177, 0.88416232, 0.17563714, 0.99555338, 0.60565312,\n",
              "        0.96999596, 0.28320201, 0.18679282, 0.38217453, 0.73106908],\n",
              "       [0.49382384, 0.0030763 , 0.69122988, 0.03781649, 0.28855591,\n",
              "        0.03340262, 0.60241106, 0.53475921, 0.16500738, 0.5434469 ],\n",
              "       [0.32147655, 0.8645813 , 0.94334219, 0.06395105, 0.32851742,\n",
              "        0.63010402, 0.3205388 , 0.95646239, 0.99508427, 0.027063  ],\n",
              "       [0.18577391, 0.82237505, 0.05347166, 0.95134971, 0.9497829 ,\n",
              "        0.21455792, 0.74896175, 0.88444022, 0.88992911, 0.64282542],\n",
              "       [0.72166558, 0.92673347, 0.03018732, 0.79191056, 0.43278247,\n",
              "        0.92351197, 0.33548549, 0.42626468, 0.79491248, 0.57339698],\n",
              "       [0.4717061 , 0.81837502, 0.6367893 , 0.13106056, 0.42092523,\n",
              "        0.34672314, 0.24183526, 0.09540303, 0.62963009, 0.7583668 ],\n",
              "       [0.85045703, 0.73603364, 0.34314205, 0.50371863, 0.59528878,\n",
              "        0.82264921, 0.20925523, 0.40078046, 0.59882301, 0.19379297],\n",
              "       [0.71291997, 0.09040779, 0.57375649, 0.60591463, 0.76703102,\n",
              "        0.53025793, 0.81194436, 0.74995777, 0.71642939, 0.37971695],\n",
              "       [0.9385499 , 0.19010103, 0.85757697, 0.62230828, 0.0703731 ,\n",
              "        0.44252904, 0.86440322, 0.45019645, 0.57905545, 0.39667045],\n",
              "       [0.41030202, 0.33779218, 0.6140477 , 0.91991309, 0.60260059,\n",
              "        0.74255698, 0.83173463, 0.90596546, 0.73678519, 0.42140832],\n",
              "       [0.73681911, 0.23277417, 0.1994377 , 0.53177054, 0.15073835,\n",
              "        0.95777676, 0.49327088, 0.22249136, 0.46340722, 0.18934686],\n",
              "       [0.05702626, 0.86002974, 0.27374714, 0.46497102, 0.38990827,\n",
              "        0.51896549, 0.25084401, 0.07484022, 0.25569393, 0.04197122],\n",
              "       [0.57380106, 0.33223522, 0.25897199, 0.00622462, 0.76056097,\n",
              "        0.04608657, 0.07250415, 0.30533873, 0.32975338, 0.05634525],\n",
              "       [0.49813758, 0.6684323 , 0.46649401, 0.22969077, 0.25015659,\n",
              "        0.17211374, 0.76991832, 0.02191254, 0.62395714, 0.40078912],\n",
              "       [0.88028056, 0.80858523, 0.16338421, 0.87425045, 0.41366451,\n",
              "        0.07271093, 0.99359134, 0.74500806, 0.89425436, 0.33153092],\n",
              "       [0.32974376, 0.26814232, 0.53967923, 0.85677339, 0.73060416,\n",
              "        0.37312764, 0.7718703 , 0.64569888, 0.12104596, 0.78322392],\n",
              "       [0.44002915, 0.643576  , 0.58429071, 0.82654046, 0.46064688,\n",
              "        0.68028691, 0.40050691, 0.17169172, 0.26456366, 0.69148895],\n",
              "       [0.52409086, 0.01664012, 0.98224734, 0.85053362, 0.61441521,\n",
              "        0.42605566, 0.37354912, 0.85858705, 0.68343644, 0.53184878],\n",
              "       [0.00723928, 0.36632695, 0.92992716, 0.87159237, 0.22960078,\n",
              "        0.00654803, 0.184387  , 0.18142924, 0.68239573, 0.92167673],\n",
              "       [0.37448292, 0.23625522, 0.50724227, 0.62235534, 0.40830366,\n",
              "        0.77226676, 0.04597336, 0.68029457, 0.6495625 , 0.59545954],\n",
              "       [0.59550965, 0.3189423 , 0.56966195, 0.80387601, 0.27896981,\n",
              "        0.35026637, 0.74760056, 0.27699894, 0.26813391, 0.4303612 ],\n",
              "       [0.30388781, 0.78357626, 0.56443483, 0.74249643, 0.81931292,\n",
              "        0.12950643, 0.75445155, 0.43865031, 0.61367498, 0.16022009],\n",
              "       [0.71919536, 0.85118561, 0.91605443, 0.25136082, 0.7819418 ,\n",
              "        0.56042046, 0.93289171, 0.24640584, 0.27396043, 0.7851311 ],\n",
              "       [0.49314995, 0.52432368, 0.94458254, 0.09752807, 0.27190187,\n",
              "        0.64423407, 0.18889754, 0.41330409, 0.53002524, 0.40225267],\n",
              "       [0.31687222, 0.80814412, 0.8756703 , 0.56836229, 0.03512858,\n",
              "        0.28509555, 0.03984679, 0.76183801, 0.42484558, 0.06771072],\n",
              "       [0.2559689 , 0.87036403, 0.37509313, 0.20247764, 0.50242723,\n",
              "        0.52868197, 0.14670856, 0.84749676, 0.66769709, 0.77065743],\n",
              "       [0.94885632, 0.86674353, 0.72590908, 0.30324293, 0.80846849,\n",
              "        0.82814853, 0.53390224, 0.06024271, 0.765524  , 0.39813725],\n",
              "       [0.13982509, 0.78975841, 0.55966347, 0.52489144, 0.23195715,\n",
              "        0.47886417, 0.91711209, 0.16410346, 0.66404147, 0.64561622],\n",
              "       [0.28274745, 0.96922624, 0.12183077, 0.53074605, 0.41655683,\n",
              "        0.93044502, 0.13971828, 0.03859632, 0.46934583, 0.07238301],\n",
              "       [0.16255013, 0.07197663, 0.83924407, 0.823764  , 0.79717921,\n",
              "        0.10606471, 0.81889407, 0.66117045, 0.2831682 , 0.4801567 ],\n",
              "       [0.99359283, 0.77434919, 0.69162045, 0.09658364, 0.25788874,\n",
              "        0.07246065, 0.26795625, 0.4913717 , 0.25762209, 0.2627919 ],\n",
              "       [0.60390187, 0.49983416, 0.68823554, 0.78563391, 0.61199558,\n",
              "        0.17353567, 0.89538489, 0.34741133, 0.17472782, 0.23721635],\n",
              "       [0.24603981, 0.25114756, 0.1692962 , 0.43153001, 0.26058381,\n",
              "        0.42417021, 0.44095732, 0.41244973, 0.47950921, 0.97975503],\n",
              "       [0.27295622, 0.60362315, 0.57978863, 0.93871251, 0.44922477,\n",
              "        0.08944383, 0.99215308, 0.13903181, 0.32115945, 0.29347832],\n",
              "       [0.64522932, 0.89529966, 0.81627976, 0.47032686, 0.18647278,\n",
              "        0.25365207, 0.04406203, 0.45698675, 0.99486274, 0.34170659],\n",
              "       [0.62758513, 0.15322067, 0.99816952, 0.73382734, 0.87899402,\n",
              "        0.76114358, 0.3960815 , 0.90106555, 0.82786265, 0.17640443],\n",
              "       [0.46507156, 0.18465151, 0.01223069, 0.8005039 , 0.06284397,\n",
              "        0.66858814, 0.69906461, 0.03582148, 0.64248348, 0.20804012],\n",
              "       [0.32063463, 0.02656044, 0.09171803, 0.99787861, 0.37396477,\n",
              "        0.04508966, 0.47506367, 0.02236409, 0.9328173 , 0.87185931],\n",
              "       [0.11976286, 0.38471732, 0.7775854 , 0.55350845, 0.88554645,\n",
              "        0.47991683, 0.3501334 , 0.49011499, 0.58441041, 0.56412639],\n",
              "       [0.14279206, 0.24952056, 0.05662806, 0.10538829, 0.22428536,\n",
              "        0.81928828, 0.39113736, 0.01266562, 0.63799128, 0.08562041],\n",
              "       [0.06991396, 0.71508751, 0.89267592, 0.04141988, 0.67853379,\n",
              "        0.21458373, 0.77049099, 0.65105966, 0.65365871, 0.5272815 ],\n",
              "       [0.25616794, 0.83601491, 0.11755379, 0.81857286, 0.00763306,\n",
              "        0.85806351, 0.57289053, 0.63429061, 0.44344969, 0.13482256],\n",
              "       [0.01179154, 0.73372024, 0.38060804, 0.18921006, 0.99334471,\n",
              "        0.20540212, 0.94370919, 0.51494399, 0.28784916, 0.36530456],\n",
              "       [0.37007091, 0.80083263, 0.65121021, 0.0239339 , 0.48551442,\n",
              "        0.89674057, 0.99817475, 0.6250885 , 0.14666623, 0.57508147],\n",
              "       [0.10938082, 0.10648623, 0.00721271, 0.81765167, 0.20801594,\n",
              "        0.45375904, 0.10001762, 0.19374549, 0.18905122, 0.45950767],\n",
              "       [0.2641126 , 0.75433782, 0.15712608, 0.09171123, 0.19166131,\n",
              "        0.64802135, 0.64707385, 0.92918297, 0.08619618, 0.47819279],\n",
              "       [0.19001314, 0.89543146, 0.13648665, 0.81772357, 0.63749526,\n",
              "        0.16475604, 0.57624097, 0.98663842, 0.43666095, 0.99786991],\n",
              "       [0.85585045, 0.51956827, 0.6769158 , 0.14720083, 0.61273105,\n",
              "        0.9904068 , 0.71641403, 0.00175687, 0.53852891, 0.34054668],\n",
              "       [0.15565066, 0.99800509, 0.44135386, 0.17039578, 0.57575527,\n",
              "        0.17513743, 0.86071639, 0.63633859, 0.73331483, 0.00484112],\n",
              "       [0.56230248, 0.97278818, 0.62290715, 0.26248762, 0.29139267,\n",
              "        0.8800652 , 0.36513637, 0.84523731, 0.7497874 , 0.52988857],\n",
              "       [0.75020919, 0.47475082, 0.62553483, 0.96499456, 0.40567894,\n",
              "        0.52272782, 0.449609  , 0.96487172, 0.69630308, 0.68167334],\n",
              "       [0.57553036, 0.58120862, 0.88504385, 0.47421418, 0.45059512,\n",
              "        0.33489435, 0.16410037, 0.74305277, 0.51126937, 0.89720144],\n",
              "       [0.44591388, 0.60068469, 0.6872584 , 0.16767961, 0.56578277,\n",
              "        0.71370938, 0.01302148, 0.6202397 , 0.91965947, 0.47289678],\n",
              "       [0.46048192, 0.6441152 , 0.40673233, 0.51143439, 0.08694865,\n",
              "        0.51401014, 0.08394387, 0.58677585, 0.75312563, 0.12093559],\n",
              "       [0.67009896, 0.81443344, 0.58694289, 0.85177548, 0.871405  ,\n",
              "        0.77334869, 0.46638992, 0.63985548, 0.98644984, 0.51419799],\n",
              "       [0.03346704, 0.68728703, 0.99932286, 0.07941689, 0.84741421,\n",
              "        0.35039196, 0.79793414, 0.28405277, 0.98122989, 0.89976022],\n",
              "       [0.92805197, 0.3109666 , 0.56636993, 0.7060111 , 0.86669458,\n",
              "        0.03532677, 0.71307538, 0.10671701, 0.7481935 , 0.25156333],\n",
              "       [0.77297815, 0.94175002, 0.80472055, 0.0210864 , 0.69701016,\n",
              "        0.64770576, 0.0841064 , 0.10800306, 0.02383544, 0.42967361],\n",
              "       [0.11265708, 0.33963634, 0.31499604, 0.38159639, 0.31627728,\n",
              "        0.3294819 , 0.67725409, 0.58195949, 0.22899999, 0.72831669],\n",
              "       [0.21897874, 0.87984638, 0.79854407, 0.36464813, 0.93653066,\n",
              "        0.2022176 , 0.07120484, 0.44377595, 0.22639247, 0.96264125],\n",
              "       [0.48421631, 0.1583297 , 0.670562  , 0.67171851, 0.35012496,\n",
              "        0.36502765, 0.97004601, 0.15772116, 0.61308762, 0.34331024],\n",
              "       [0.36051912, 0.15674252, 0.27104308, 0.81650243, 0.7922422 ,\n",
              "        0.59170228, 0.68349702, 0.71818171, 0.8133764 , 0.72907393],\n",
              "       [0.41861659, 0.22216117, 0.61464149, 0.90811372, 0.96389772,\n",
              "        0.25989449, 0.84583563, 0.88047795, 0.20414193, 0.95854024],\n",
              "       [0.86369233, 0.52492716, 0.92322064, 0.66713984, 0.35578716,\n",
              "        0.30254554, 0.3798805 , 0.94906037, 0.12016001, 0.0894808 ],\n",
              "       [0.94087325, 0.05521196, 0.93051101, 0.09358216, 0.11604886,\n",
              "        0.28374818, 0.90721759, 0.36768114, 0.6764974 , 0.05828101],\n",
              "       [0.60111013, 0.27358186, 0.47946139, 0.16345483, 0.36567749,\n",
              "        0.06190175, 0.31856521, 0.52021382, 0.04111876, 0.99380087],\n",
              "       [0.32886241, 0.08341458, 0.24671255, 0.22925343, 0.82097941,\n",
              "        0.39808641, 0.66944587, 0.29752813, 0.49647884, 0.96740509],\n",
              "       [0.53194032, 0.79449373, 0.92851768, 0.57063231, 0.27892505,\n",
              "        0.65283486, 0.69058479, 0.66234773, 0.52569642, 0.26653432],\n",
              "       [0.50006238, 0.511399  , 0.74146412, 0.07492727, 0.54785866,\n",
              "        0.27108357, 0.35584453, 0.76327596, 0.15833298, 0.26165802],\n",
              "       [0.92218362, 0.74612725, 0.50748941, 0.69018063, 0.4002311 ,\n",
              "        0.66271082, 0.31730859, 0.78638037, 0.8077163 , 0.69918279],\n",
              "       [0.54055956, 0.97579154, 0.59519698, 0.20253517, 0.64830898,\n",
              "        0.16111833, 0.8484601 , 0.64656933, 0.89143127, 0.07231505]])"
            ]
          },
          "metadata": {},
          "execution_count": 75
        }
      ],
      "source": [
        "X_train"
      ]
    },
    {
      "cell_type": "code",
      "execution_count": null,
      "metadata": {
        "colab": {
          "base_uri": "https://localhost:8080/"
        },
        "id": "NOlniEioJgom",
        "outputId": "ac93578b-4607-4955-ea16-51a758ff7f98"
      },
      "outputs": [
        {
          "output_type": "execute_result",
          "data": {
            "text/plain": [
              "array([0, 0, 1, 1, 0, 1, 0, 0, 0, 0, 0, 1, 0, 0, 1, 1, 0, 0, 0, 0, 0, 1,\n",
              "       0, 0, 0, 0, 0, 0, 1, 0, 1, 1, 0, 0, 1, 1, 0, 0, 0, 1, 0, 0, 0, 1,\n",
              "       1, 0, 0, 1, 1, 1, 1, 0, 1, 0, 1, 1, 1, 1, 0, 1, 0, 0, 1, 1, 1, 0,\n",
              "       0, 0, 0, 0, 0, 1, 1, 0, 0, 1, 1, 1, 1, 0])"
            ]
          },
          "metadata": {},
          "execution_count": 76
        }
      ],
      "source": [
        "Y_train"
      ]
    },
    {
      "cell_type": "code",
      "execution_count": null,
      "metadata": {
        "colab": {
          "base_uri": "https://localhost:8080/",
          "height": 80
        },
        "id": "9cYo1dnsJpNs",
        "outputId": "29b2febc-2080-4b24-c02b-806cb9e9cc09"
      },
      "outputs": [
        {
          "output_type": "execute_result",
          "data": {
            "text/plain": [
              "GaussianNB()"
            ],
            "text/html": [
              "<style>#sk-container-id-2 {\n",
              "  /* Definition of color scheme common for light and dark mode */\n",
              "  --sklearn-color-text: #000;\n",
              "  --sklearn-color-text-muted: #666;\n",
              "  --sklearn-color-line: gray;\n",
              "  /* Definition of color scheme for unfitted estimators */\n",
              "  --sklearn-color-unfitted-level-0: #fff5e6;\n",
              "  --sklearn-color-unfitted-level-1: #f6e4d2;\n",
              "  --sklearn-color-unfitted-level-2: #ffe0b3;\n",
              "  --sklearn-color-unfitted-level-3: chocolate;\n",
              "  /* Definition of color scheme for fitted estimators */\n",
              "  --sklearn-color-fitted-level-0: #f0f8ff;\n",
              "  --sklearn-color-fitted-level-1: #d4ebff;\n",
              "  --sklearn-color-fitted-level-2: #b3dbfd;\n",
              "  --sklearn-color-fitted-level-3: cornflowerblue;\n",
              "\n",
              "  /* Specific color for light theme */\n",
              "  --sklearn-color-text-on-default-background: var(--sg-text-color, var(--theme-code-foreground, var(--jp-content-font-color1, black)));\n",
              "  --sklearn-color-background: var(--sg-background-color, var(--theme-background, var(--jp-layout-color0, white)));\n",
              "  --sklearn-color-border-box: var(--sg-text-color, var(--theme-code-foreground, var(--jp-content-font-color1, black)));\n",
              "  --sklearn-color-icon: #696969;\n",
              "\n",
              "  @media (prefers-color-scheme: dark) {\n",
              "    /* Redefinition of color scheme for dark theme */\n",
              "    --sklearn-color-text-on-default-background: var(--sg-text-color, var(--theme-code-foreground, var(--jp-content-font-color1, white)));\n",
              "    --sklearn-color-background: var(--sg-background-color, var(--theme-background, var(--jp-layout-color0, #111)));\n",
              "    --sklearn-color-border-box: var(--sg-text-color, var(--theme-code-foreground, var(--jp-content-font-color1, white)));\n",
              "    --sklearn-color-icon: #878787;\n",
              "  }\n",
              "}\n",
              "\n",
              "#sk-container-id-2 {\n",
              "  color: var(--sklearn-color-text);\n",
              "}\n",
              "\n",
              "#sk-container-id-2 pre {\n",
              "  padding: 0;\n",
              "}\n",
              "\n",
              "#sk-container-id-2 input.sk-hidden--visually {\n",
              "  border: 0;\n",
              "  clip: rect(1px 1px 1px 1px);\n",
              "  clip: rect(1px, 1px, 1px, 1px);\n",
              "  height: 1px;\n",
              "  margin: -1px;\n",
              "  overflow: hidden;\n",
              "  padding: 0;\n",
              "  position: absolute;\n",
              "  width: 1px;\n",
              "}\n",
              "\n",
              "#sk-container-id-2 div.sk-dashed-wrapped {\n",
              "  border: 1px dashed var(--sklearn-color-line);\n",
              "  margin: 0 0.4em 0.5em 0.4em;\n",
              "  box-sizing: border-box;\n",
              "  padding-bottom: 0.4em;\n",
              "  background-color: var(--sklearn-color-background);\n",
              "}\n",
              "\n",
              "#sk-container-id-2 div.sk-container {\n",
              "  /* jupyter's `normalize.less` sets `[hidden] { display: none; }`\n",
              "     but bootstrap.min.css set `[hidden] { display: none !important; }`\n",
              "     so we also need the `!important` here to be able to override the\n",
              "     default hidden behavior on the sphinx rendered scikit-learn.org.\n",
              "     See: https://github.com/scikit-learn/scikit-learn/issues/21755 */\n",
              "  display: inline-block !important;\n",
              "  position: relative;\n",
              "}\n",
              "\n",
              "#sk-container-id-2 div.sk-text-repr-fallback {\n",
              "  display: none;\n",
              "}\n",
              "\n",
              "div.sk-parallel-item,\n",
              "div.sk-serial,\n",
              "div.sk-item {\n",
              "  /* draw centered vertical line to link estimators */\n",
              "  background-image: linear-gradient(var(--sklearn-color-text-on-default-background), var(--sklearn-color-text-on-default-background));\n",
              "  background-size: 2px 100%;\n",
              "  background-repeat: no-repeat;\n",
              "  background-position: center center;\n",
              "}\n",
              "\n",
              "/* Parallel-specific style estimator block */\n",
              "\n",
              "#sk-container-id-2 div.sk-parallel-item::after {\n",
              "  content: \"\";\n",
              "  width: 100%;\n",
              "  border-bottom: 2px solid var(--sklearn-color-text-on-default-background);\n",
              "  flex-grow: 1;\n",
              "}\n",
              "\n",
              "#sk-container-id-2 div.sk-parallel {\n",
              "  display: flex;\n",
              "  align-items: stretch;\n",
              "  justify-content: center;\n",
              "  background-color: var(--sklearn-color-background);\n",
              "  position: relative;\n",
              "}\n",
              "\n",
              "#sk-container-id-2 div.sk-parallel-item {\n",
              "  display: flex;\n",
              "  flex-direction: column;\n",
              "}\n",
              "\n",
              "#sk-container-id-2 div.sk-parallel-item:first-child::after {\n",
              "  align-self: flex-end;\n",
              "  width: 50%;\n",
              "}\n",
              "\n",
              "#sk-container-id-2 div.sk-parallel-item:last-child::after {\n",
              "  align-self: flex-start;\n",
              "  width: 50%;\n",
              "}\n",
              "\n",
              "#sk-container-id-2 div.sk-parallel-item:only-child::after {\n",
              "  width: 0;\n",
              "}\n",
              "\n",
              "/* Serial-specific style estimator block */\n",
              "\n",
              "#sk-container-id-2 div.sk-serial {\n",
              "  display: flex;\n",
              "  flex-direction: column;\n",
              "  align-items: center;\n",
              "  background-color: var(--sklearn-color-background);\n",
              "  padding-right: 1em;\n",
              "  padding-left: 1em;\n",
              "}\n",
              "\n",
              "\n",
              "/* Toggleable style: style used for estimator/Pipeline/ColumnTransformer box that is\n",
              "clickable and can be expanded/collapsed.\n",
              "- Pipeline and ColumnTransformer use this feature and define the default style\n",
              "- Estimators will overwrite some part of the style using the `sk-estimator` class\n",
              "*/\n",
              "\n",
              "/* Pipeline and ColumnTransformer style (default) */\n",
              "\n",
              "#sk-container-id-2 div.sk-toggleable {\n",
              "  /* Default theme specific background. It is overwritten whether we have a\n",
              "  specific estimator or a Pipeline/ColumnTransformer */\n",
              "  background-color: var(--sklearn-color-background);\n",
              "}\n",
              "\n",
              "/* Toggleable label */\n",
              "#sk-container-id-2 label.sk-toggleable__label {\n",
              "  cursor: pointer;\n",
              "  display: flex;\n",
              "  width: 100%;\n",
              "  margin-bottom: 0;\n",
              "  padding: 0.5em;\n",
              "  box-sizing: border-box;\n",
              "  text-align: center;\n",
              "  align-items: start;\n",
              "  justify-content: space-between;\n",
              "  gap: 0.5em;\n",
              "}\n",
              "\n",
              "#sk-container-id-2 label.sk-toggleable__label .caption {\n",
              "  font-size: 0.6rem;\n",
              "  font-weight: lighter;\n",
              "  color: var(--sklearn-color-text-muted);\n",
              "}\n",
              "\n",
              "#sk-container-id-2 label.sk-toggleable__label-arrow:before {\n",
              "  /* Arrow on the left of the label */\n",
              "  content: \"▸\";\n",
              "  float: left;\n",
              "  margin-right: 0.25em;\n",
              "  color: var(--sklearn-color-icon);\n",
              "}\n",
              "\n",
              "#sk-container-id-2 label.sk-toggleable__label-arrow:hover:before {\n",
              "  color: var(--sklearn-color-text);\n",
              "}\n",
              "\n",
              "/* Toggleable content - dropdown */\n",
              "\n",
              "#sk-container-id-2 div.sk-toggleable__content {\n",
              "  max-height: 0;\n",
              "  max-width: 0;\n",
              "  overflow: hidden;\n",
              "  text-align: left;\n",
              "  /* unfitted */\n",
              "  background-color: var(--sklearn-color-unfitted-level-0);\n",
              "}\n",
              "\n",
              "#sk-container-id-2 div.sk-toggleable__content.fitted {\n",
              "  /* fitted */\n",
              "  background-color: var(--sklearn-color-fitted-level-0);\n",
              "}\n",
              "\n",
              "#sk-container-id-2 div.sk-toggleable__content pre {\n",
              "  margin: 0.2em;\n",
              "  border-radius: 0.25em;\n",
              "  color: var(--sklearn-color-text);\n",
              "  /* unfitted */\n",
              "  background-color: var(--sklearn-color-unfitted-level-0);\n",
              "}\n",
              "\n",
              "#sk-container-id-2 div.sk-toggleable__content.fitted pre {\n",
              "  /* unfitted */\n",
              "  background-color: var(--sklearn-color-fitted-level-0);\n",
              "}\n",
              "\n",
              "#sk-container-id-2 input.sk-toggleable__control:checked~div.sk-toggleable__content {\n",
              "  /* Expand drop-down */\n",
              "  max-height: 200px;\n",
              "  max-width: 100%;\n",
              "  overflow: auto;\n",
              "}\n",
              "\n",
              "#sk-container-id-2 input.sk-toggleable__control:checked~label.sk-toggleable__label-arrow:before {\n",
              "  content: \"▾\";\n",
              "}\n",
              "\n",
              "/* Pipeline/ColumnTransformer-specific style */\n",
              "\n",
              "#sk-container-id-2 div.sk-label input.sk-toggleable__control:checked~label.sk-toggleable__label {\n",
              "  color: var(--sklearn-color-text);\n",
              "  background-color: var(--sklearn-color-unfitted-level-2);\n",
              "}\n",
              "\n",
              "#sk-container-id-2 div.sk-label.fitted input.sk-toggleable__control:checked~label.sk-toggleable__label {\n",
              "  background-color: var(--sklearn-color-fitted-level-2);\n",
              "}\n",
              "\n",
              "/* Estimator-specific style */\n",
              "\n",
              "/* Colorize estimator box */\n",
              "#sk-container-id-2 div.sk-estimator input.sk-toggleable__control:checked~label.sk-toggleable__label {\n",
              "  /* unfitted */\n",
              "  background-color: var(--sklearn-color-unfitted-level-2);\n",
              "}\n",
              "\n",
              "#sk-container-id-2 div.sk-estimator.fitted input.sk-toggleable__control:checked~label.sk-toggleable__label {\n",
              "  /* fitted */\n",
              "  background-color: var(--sklearn-color-fitted-level-2);\n",
              "}\n",
              "\n",
              "#sk-container-id-2 div.sk-label label.sk-toggleable__label,\n",
              "#sk-container-id-2 div.sk-label label {\n",
              "  /* The background is the default theme color */\n",
              "  color: var(--sklearn-color-text-on-default-background);\n",
              "}\n",
              "\n",
              "/* On hover, darken the color of the background */\n",
              "#sk-container-id-2 div.sk-label:hover label.sk-toggleable__label {\n",
              "  color: var(--sklearn-color-text);\n",
              "  background-color: var(--sklearn-color-unfitted-level-2);\n",
              "}\n",
              "\n",
              "/* Label box, darken color on hover, fitted */\n",
              "#sk-container-id-2 div.sk-label.fitted:hover label.sk-toggleable__label.fitted {\n",
              "  color: var(--sklearn-color-text);\n",
              "  background-color: var(--sklearn-color-fitted-level-2);\n",
              "}\n",
              "\n",
              "/* Estimator label */\n",
              "\n",
              "#sk-container-id-2 div.sk-label label {\n",
              "  font-family: monospace;\n",
              "  font-weight: bold;\n",
              "  display: inline-block;\n",
              "  line-height: 1.2em;\n",
              "}\n",
              "\n",
              "#sk-container-id-2 div.sk-label-container {\n",
              "  text-align: center;\n",
              "}\n",
              "\n",
              "/* Estimator-specific */\n",
              "#sk-container-id-2 div.sk-estimator {\n",
              "  font-family: monospace;\n",
              "  border: 1px dotted var(--sklearn-color-border-box);\n",
              "  border-radius: 0.25em;\n",
              "  box-sizing: border-box;\n",
              "  margin-bottom: 0.5em;\n",
              "  /* unfitted */\n",
              "  background-color: var(--sklearn-color-unfitted-level-0);\n",
              "}\n",
              "\n",
              "#sk-container-id-2 div.sk-estimator.fitted {\n",
              "  /* fitted */\n",
              "  background-color: var(--sklearn-color-fitted-level-0);\n",
              "}\n",
              "\n",
              "/* on hover */\n",
              "#sk-container-id-2 div.sk-estimator:hover {\n",
              "  /* unfitted */\n",
              "  background-color: var(--sklearn-color-unfitted-level-2);\n",
              "}\n",
              "\n",
              "#sk-container-id-2 div.sk-estimator.fitted:hover {\n",
              "  /* fitted */\n",
              "  background-color: var(--sklearn-color-fitted-level-2);\n",
              "}\n",
              "\n",
              "/* Specification for estimator info (e.g. \"i\" and \"?\") */\n",
              "\n",
              "/* Common style for \"i\" and \"?\" */\n",
              "\n",
              ".sk-estimator-doc-link,\n",
              "a:link.sk-estimator-doc-link,\n",
              "a:visited.sk-estimator-doc-link {\n",
              "  float: right;\n",
              "  font-size: smaller;\n",
              "  line-height: 1em;\n",
              "  font-family: monospace;\n",
              "  background-color: var(--sklearn-color-background);\n",
              "  border-radius: 1em;\n",
              "  height: 1em;\n",
              "  width: 1em;\n",
              "  text-decoration: none !important;\n",
              "  margin-left: 0.5em;\n",
              "  text-align: center;\n",
              "  /* unfitted */\n",
              "  border: var(--sklearn-color-unfitted-level-1) 1pt solid;\n",
              "  color: var(--sklearn-color-unfitted-level-1);\n",
              "}\n",
              "\n",
              ".sk-estimator-doc-link.fitted,\n",
              "a:link.sk-estimator-doc-link.fitted,\n",
              "a:visited.sk-estimator-doc-link.fitted {\n",
              "  /* fitted */\n",
              "  border: var(--sklearn-color-fitted-level-1) 1pt solid;\n",
              "  color: var(--sklearn-color-fitted-level-1);\n",
              "}\n",
              "\n",
              "/* On hover */\n",
              "div.sk-estimator:hover .sk-estimator-doc-link:hover,\n",
              ".sk-estimator-doc-link:hover,\n",
              "div.sk-label-container:hover .sk-estimator-doc-link:hover,\n",
              ".sk-estimator-doc-link:hover {\n",
              "  /* unfitted */\n",
              "  background-color: var(--sklearn-color-unfitted-level-3);\n",
              "  color: var(--sklearn-color-background);\n",
              "  text-decoration: none;\n",
              "}\n",
              "\n",
              "div.sk-estimator.fitted:hover .sk-estimator-doc-link.fitted:hover,\n",
              ".sk-estimator-doc-link.fitted:hover,\n",
              "div.sk-label-container:hover .sk-estimator-doc-link.fitted:hover,\n",
              ".sk-estimator-doc-link.fitted:hover {\n",
              "  /* fitted */\n",
              "  background-color: var(--sklearn-color-fitted-level-3);\n",
              "  color: var(--sklearn-color-background);\n",
              "  text-decoration: none;\n",
              "}\n",
              "\n",
              "/* Span, style for the box shown on hovering the info icon */\n",
              ".sk-estimator-doc-link span {\n",
              "  display: none;\n",
              "  z-index: 9999;\n",
              "  position: relative;\n",
              "  font-weight: normal;\n",
              "  right: .2ex;\n",
              "  padding: .5ex;\n",
              "  margin: .5ex;\n",
              "  width: min-content;\n",
              "  min-width: 20ex;\n",
              "  max-width: 50ex;\n",
              "  color: var(--sklearn-color-text);\n",
              "  box-shadow: 2pt 2pt 4pt #999;\n",
              "  /* unfitted */\n",
              "  background: var(--sklearn-color-unfitted-level-0);\n",
              "  border: .5pt solid var(--sklearn-color-unfitted-level-3);\n",
              "}\n",
              "\n",
              ".sk-estimator-doc-link.fitted span {\n",
              "  /* fitted */\n",
              "  background: var(--sklearn-color-fitted-level-0);\n",
              "  border: var(--sklearn-color-fitted-level-3);\n",
              "}\n",
              "\n",
              ".sk-estimator-doc-link:hover span {\n",
              "  display: block;\n",
              "}\n",
              "\n",
              "/* \"?\"-specific style due to the `<a>` HTML tag */\n",
              "\n",
              "#sk-container-id-2 a.estimator_doc_link {\n",
              "  float: right;\n",
              "  font-size: 1rem;\n",
              "  line-height: 1em;\n",
              "  font-family: monospace;\n",
              "  background-color: var(--sklearn-color-background);\n",
              "  border-radius: 1rem;\n",
              "  height: 1rem;\n",
              "  width: 1rem;\n",
              "  text-decoration: none;\n",
              "  /* unfitted */\n",
              "  color: var(--sklearn-color-unfitted-level-1);\n",
              "  border: var(--sklearn-color-unfitted-level-1) 1pt solid;\n",
              "}\n",
              "\n",
              "#sk-container-id-2 a.estimator_doc_link.fitted {\n",
              "  /* fitted */\n",
              "  border: var(--sklearn-color-fitted-level-1) 1pt solid;\n",
              "  color: var(--sklearn-color-fitted-level-1);\n",
              "}\n",
              "\n",
              "/* On hover */\n",
              "#sk-container-id-2 a.estimator_doc_link:hover {\n",
              "  /* unfitted */\n",
              "  background-color: var(--sklearn-color-unfitted-level-3);\n",
              "  color: var(--sklearn-color-background);\n",
              "  text-decoration: none;\n",
              "}\n",
              "\n",
              "#sk-container-id-2 a.estimator_doc_link.fitted:hover {\n",
              "  /* fitted */\n",
              "  background-color: var(--sklearn-color-fitted-level-3);\n",
              "}\n",
              "</style><div id=\"sk-container-id-2\" class=\"sk-top-container\"><div class=\"sk-text-repr-fallback\"><pre>GaussianNB()</pre><b>In a Jupyter environment, please rerun this cell to show the HTML representation or trust the notebook. <br />On GitHub, the HTML representation is unable to render, please try loading this page with nbviewer.org.</b></div><div class=\"sk-container\" hidden><div class=\"sk-item\"><div class=\"sk-estimator fitted sk-toggleable\"><input class=\"sk-toggleable__control sk-hidden--visually\" id=\"sk-estimator-id-2\" type=\"checkbox\" checked><label for=\"sk-estimator-id-2\" class=\"sk-toggleable__label fitted sk-toggleable__label-arrow\"><div><div>GaussianNB</div></div><div><a class=\"sk-estimator-doc-link fitted\" rel=\"noreferrer\" target=\"_blank\" href=\"https://scikit-learn.org/1.6/modules/generated/sklearn.naive_bayes.GaussianNB.html\">?<span>Documentation for GaussianNB</span></a><span class=\"sk-estimator-doc-link fitted\">i<span>Fitted</span></span></div></label><div class=\"sk-toggleable__content fitted\"><pre>GaussianNB()</pre></div> </div></div></div></div>"
            ]
          },
          "metadata": {},
          "execution_count": 72
        }
      ],
      "source": [
        "gnb=GaussianNB()\n",
        "gnb.fit(X_train,Y_train) #for Training"
      ]
    },
    {
      "cell_type": "code",
      "execution_count": null,
      "metadata": {
        "id": "vrkWJ_d7KAOM",
        "colab": {
          "base_uri": "https://localhost:8080/",
          "height": 141
        },
        "outputId": "cea1c96d-3f05-43c6-c389-606fdfe65a44"
      },
      "outputs": [
        {
          "output_type": "error",
          "ename": "NameError",
          "evalue": "name 'gnb' is not defined",
          "traceback": [
            "\u001b[0;31m---------------------------------------------------------------------------\u001b[0m",
            "\u001b[0;31mNameError\u001b[0m                                 Traceback (most recent call last)",
            "\u001b[0;32m<ipython-input-71-135258f9690d>\u001b[0m in \u001b[0;36m<cell line: 0>\u001b[0;34m()\u001b[0m\n\u001b[0;32m----> 1\u001b[0;31m \u001b[0mypredict\u001b[0m\u001b[0;34m=\u001b[0m\u001b[0mgnb\u001b[0m\u001b[0;34m.\u001b[0m\u001b[0mpredict\u001b[0m\u001b[0;34m(\u001b[0m\u001b[0mX_test\u001b[0m\u001b[0;34m)\u001b[0m\u001b[0;34m\u001b[0m\u001b[0;34m\u001b[0m\u001b[0m\n\u001b[0m",
            "\u001b[0;31mNameError\u001b[0m: name 'gnb' is not defined"
          ]
        }
      ],
      "source": [
        "ypredict=gnb.predict(X_test)"
      ]
    },
    {
      "cell_type": "code",
      "execution_count": null,
      "metadata": {
        "colab": {
          "base_uri": "https://localhost:8080/"
        },
        "id": "cKuv40xXKHP0",
        "outputId": "dba73e52-4ffa-4d92-a685-a8e78dc011db"
      },
      "outputs": [
        {
          "data": {
            "text/plain": [
              "array([[3, 4],\n",
              "       [8, 5]])"
            ]
          },
          "execution_count": 76,
          "metadata": {},
          "output_type": "execute_result"
        }
      ],
      "source": [
        "from sklearn.metrics import confusion_matrix\n",
        "confusion_matrix(Y_test,ypredict)"
      ]
    },
    {
      "cell_type": "code",
      "execution_count": null,
      "metadata": {
        "colab": {
          "base_uri": "https://localhost:8080/",
          "height": 158
        },
        "id": "2guG-3f6KbVb",
        "outputId": "fe384f2d-bd01-456c-c7e4-59f23eac6109"
      },
      "outputs": [
        {
          "output_type": "error",
          "ename": "NameError",
          "evalue": "name 'gnb' is not defined",
          "traceback": [
            "\u001b[0;31m---------------------------------------------------------------------------\u001b[0m",
            "\u001b[0;31mNameError\u001b[0m                                 Traceback (most recent call last)",
            "\u001b[0;32m<ipython-input-70-50edefeef6ab>\u001b[0m in \u001b[0;36m<cell line: 0>\u001b[0;34m()\u001b[0m\n\u001b[1;32m      1\u001b[0m \u001b[0;32mfrom\u001b[0m \u001b[0msklearn\u001b[0m\u001b[0;34m.\u001b[0m\u001b[0mmetrics\u001b[0m \u001b[0;32mimport\u001b[0m \u001b[0maccuracy_score\u001b[0m\u001b[0;34m\u001b[0m\u001b[0;34m\u001b[0m\u001b[0m\n\u001b[0;32m----> 2\u001b[0;31m \u001b[0mgnb\u001b[0m\u001b[0;34m.\u001b[0m\u001b[0mscore\u001b[0m\u001b[0;34m(\u001b[0m\u001b[0mX_test\u001b[0m\u001b[0;34m,\u001b[0m\u001b[0mY_test\u001b[0m\u001b[0;34m)\u001b[0m\u001b[0;34m\u001b[0m\u001b[0;34m\u001b[0m\u001b[0m\n\u001b[0m",
            "\u001b[0;31mNameError\u001b[0m: name 'gnb' is not defined"
          ]
        }
      ],
      "source": [
        "from sklearn.metrics import accuracy_score\n",
        "gnb.score(X_test,Y_test)"
      ]
    },
    {
      "cell_type": "code",
      "execution_count": null,
      "metadata": {
        "colab": {
          "base_uri": "https://localhost:8080/",
          "height": 80
        },
        "id": "ZpBWYBKeKjnv",
        "outputId": "577c0a59-0f6f-45d2-cf29-68ac603da4b6"
      },
      "outputs": [
        {
          "output_type": "execute_result",
          "data": {
            "text/plain": [
              "BernoulliNB()"
            ],
            "text/html": [
              "<style>#sk-container-id-1 {\n",
              "  /* Definition of color scheme common for light and dark mode */\n",
              "  --sklearn-color-text: #000;\n",
              "  --sklearn-color-text-muted: #666;\n",
              "  --sklearn-color-line: gray;\n",
              "  /* Definition of color scheme for unfitted estimators */\n",
              "  --sklearn-color-unfitted-level-0: #fff5e6;\n",
              "  --sklearn-color-unfitted-level-1: #f6e4d2;\n",
              "  --sklearn-color-unfitted-level-2: #ffe0b3;\n",
              "  --sklearn-color-unfitted-level-3: chocolate;\n",
              "  /* Definition of color scheme for fitted estimators */\n",
              "  --sklearn-color-fitted-level-0: #f0f8ff;\n",
              "  --sklearn-color-fitted-level-1: #d4ebff;\n",
              "  --sklearn-color-fitted-level-2: #b3dbfd;\n",
              "  --sklearn-color-fitted-level-3: cornflowerblue;\n",
              "\n",
              "  /* Specific color for light theme */\n",
              "  --sklearn-color-text-on-default-background: var(--sg-text-color, var(--theme-code-foreground, var(--jp-content-font-color1, black)));\n",
              "  --sklearn-color-background: var(--sg-background-color, var(--theme-background, var(--jp-layout-color0, white)));\n",
              "  --sklearn-color-border-box: var(--sg-text-color, var(--theme-code-foreground, var(--jp-content-font-color1, black)));\n",
              "  --sklearn-color-icon: #696969;\n",
              "\n",
              "  @media (prefers-color-scheme: dark) {\n",
              "    /* Redefinition of color scheme for dark theme */\n",
              "    --sklearn-color-text-on-default-background: var(--sg-text-color, var(--theme-code-foreground, var(--jp-content-font-color1, white)));\n",
              "    --sklearn-color-background: var(--sg-background-color, var(--theme-background, var(--jp-layout-color0, #111)));\n",
              "    --sklearn-color-border-box: var(--sg-text-color, var(--theme-code-foreground, var(--jp-content-font-color1, white)));\n",
              "    --sklearn-color-icon: #878787;\n",
              "  }\n",
              "}\n",
              "\n",
              "#sk-container-id-1 {\n",
              "  color: var(--sklearn-color-text);\n",
              "}\n",
              "\n",
              "#sk-container-id-1 pre {\n",
              "  padding: 0;\n",
              "}\n",
              "\n",
              "#sk-container-id-1 input.sk-hidden--visually {\n",
              "  border: 0;\n",
              "  clip: rect(1px 1px 1px 1px);\n",
              "  clip: rect(1px, 1px, 1px, 1px);\n",
              "  height: 1px;\n",
              "  margin: -1px;\n",
              "  overflow: hidden;\n",
              "  padding: 0;\n",
              "  position: absolute;\n",
              "  width: 1px;\n",
              "}\n",
              "\n",
              "#sk-container-id-1 div.sk-dashed-wrapped {\n",
              "  border: 1px dashed var(--sklearn-color-line);\n",
              "  margin: 0 0.4em 0.5em 0.4em;\n",
              "  box-sizing: border-box;\n",
              "  padding-bottom: 0.4em;\n",
              "  background-color: var(--sklearn-color-background);\n",
              "}\n",
              "\n",
              "#sk-container-id-1 div.sk-container {\n",
              "  /* jupyter's `normalize.less` sets `[hidden] { display: none; }`\n",
              "     but bootstrap.min.css set `[hidden] { display: none !important; }`\n",
              "     so we also need the `!important` here to be able to override the\n",
              "     default hidden behavior on the sphinx rendered scikit-learn.org.\n",
              "     See: https://github.com/scikit-learn/scikit-learn/issues/21755 */\n",
              "  display: inline-block !important;\n",
              "  position: relative;\n",
              "}\n",
              "\n",
              "#sk-container-id-1 div.sk-text-repr-fallback {\n",
              "  display: none;\n",
              "}\n",
              "\n",
              "div.sk-parallel-item,\n",
              "div.sk-serial,\n",
              "div.sk-item {\n",
              "  /* draw centered vertical line to link estimators */\n",
              "  background-image: linear-gradient(var(--sklearn-color-text-on-default-background), var(--sklearn-color-text-on-default-background));\n",
              "  background-size: 2px 100%;\n",
              "  background-repeat: no-repeat;\n",
              "  background-position: center center;\n",
              "}\n",
              "\n",
              "/* Parallel-specific style estimator block */\n",
              "\n",
              "#sk-container-id-1 div.sk-parallel-item::after {\n",
              "  content: \"\";\n",
              "  width: 100%;\n",
              "  border-bottom: 2px solid var(--sklearn-color-text-on-default-background);\n",
              "  flex-grow: 1;\n",
              "}\n",
              "\n",
              "#sk-container-id-1 div.sk-parallel {\n",
              "  display: flex;\n",
              "  align-items: stretch;\n",
              "  justify-content: center;\n",
              "  background-color: var(--sklearn-color-background);\n",
              "  position: relative;\n",
              "}\n",
              "\n",
              "#sk-container-id-1 div.sk-parallel-item {\n",
              "  display: flex;\n",
              "  flex-direction: column;\n",
              "}\n",
              "\n",
              "#sk-container-id-1 div.sk-parallel-item:first-child::after {\n",
              "  align-self: flex-end;\n",
              "  width: 50%;\n",
              "}\n",
              "\n",
              "#sk-container-id-1 div.sk-parallel-item:last-child::after {\n",
              "  align-self: flex-start;\n",
              "  width: 50%;\n",
              "}\n",
              "\n",
              "#sk-container-id-1 div.sk-parallel-item:only-child::after {\n",
              "  width: 0;\n",
              "}\n",
              "\n",
              "/* Serial-specific style estimator block */\n",
              "\n",
              "#sk-container-id-1 div.sk-serial {\n",
              "  display: flex;\n",
              "  flex-direction: column;\n",
              "  align-items: center;\n",
              "  background-color: var(--sklearn-color-background);\n",
              "  padding-right: 1em;\n",
              "  padding-left: 1em;\n",
              "}\n",
              "\n",
              "\n",
              "/* Toggleable style: style used for estimator/Pipeline/ColumnTransformer box that is\n",
              "clickable and can be expanded/collapsed.\n",
              "- Pipeline and ColumnTransformer use this feature and define the default style\n",
              "- Estimators will overwrite some part of the style using the `sk-estimator` class\n",
              "*/\n",
              "\n",
              "/* Pipeline and ColumnTransformer style (default) */\n",
              "\n",
              "#sk-container-id-1 div.sk-toggleable {\n",
              "  /* Default theme specific background. It is overwritten whether we have a\n",
              "  specific estimator or a Pipeline/ColumnTransformer */\n",
              "  background-color: var(--sklearn-color-background);\n",
              "}\n",
              "\n",
              "/* Toggleable label */\n",
              "#sk-container-id-1 label.sk-toggleable__label {\n",
              "  cursor: pointer;\n",
              "  display: flex;\n",
              "  width: 100%;\n",
              "  margin-bottom: 0;\n",
              "  padding: 0.5em;\n",
              "  box-sizing: border-box;\n",
              "  text-align: center;\n",
              "  align-items: start;\n",
              "  justify-content: space-between;\n",
              "  gap: 0.5em;\n",
              "}\n",
              "\n",
              "#sk-container-id-1 label.sk-toggleable__label .caption {\n",
              "  font-size: 0.6rem;\n",
              "  font-weight: lighter;\n",
              "  color: var(--sklearn-color-text-muted);\n",
              "}\n",
              "\n",
              "#sk-container-id-1 label.sk-toggleable__label-arrow:before {\n",
              "  /* Arrow on the left of the label */\n",
              "  content: \"▸\";\n",
              "  float: left;\n",
              "  margin-right: 0.25em;\n",
              "  color: var(--sklearn-color-icon);\n",
              "}\n",
              "\n",
              "#sk-container-id-1 label.sk-toggleable__label-arrow:hover:before {\n",
              "  color: var(--sklearn-color-text);\n",
              "}\n",
              "\n",
              "/* Toggleable content - dropdown */\n",
              "\n",
              "#sk-container-id-1 div.sk-toggleable__content {\n",
              "  max-height: 0;\n",
              "  max-width: 0;\n",
              "  overflow: hidden;\n",
              "  text-align: left;\n",
              "  /* unfitted */\n",
              "  background-color: var(--sklearn-color-unfitted-level-0);\n",
              "}\n",
              "\n",
              "#sk-container-id-1 div.sk-toggleable__content.fitted {\n",
              "  /* fitted */\n",
              "  background-color: var(--sklearn-color-fitted-level-0);\n",
              "}\n",
              "\n",
              "#sk-container-id-1 div.sk-toggleable__content pre {\n",
              "  margin: 0.2em;\n",
              "  border-radius: 0.25em;\n",
              "  color: var(--sklearn-color-text);\n",
              "  /* unfitted */\n",
              "  background-color: var(--sklearn-color-unfitted-level-0);\n",
              "}\n",
              "\n",
              "#sk-container-id-1 div.sk-toggleable__content.fitted pre {\n",
              "  /* unfitted */\n",
              "  background-color: var(--sklearn-color-fitted-level-0);\n",
              "}\n",
              "\n",
              "#sk-container-id-1 input.sk-toggleable__control:checked~div.sk-toggleable__content {\n",
              "  /* Expand drop-down */\n",
              "  max-height: 200px;\n",
              "  max-width: 100%;\n",
              "  overflow: auto;\n",
              "}\n",
              "\n",
              "#sk-container-id-1 input.sk-toggleable__control:checked~label.sk-toggleable__label-arrow:before {\n",
              "  content: \"▾\";\n",
              "}\n",
              "\n",
              "/* Pipeline/ColumnTransformer-specific style */\n",
              "\n",
              "#sk-container-id-1 div.sk-label input.sk-toggleable__control:checked~label.sk-toggleable__label {\n",
              "  color: var(--sklearn-color-text);\n",
              "  background-color: var(--sklearn-color-unfitted-level-2);\n",
              "}\n",
              "\n",
              "#sk-container-id-1 div.sk-label.fitted input.sk-toggleable__control:checked~label.sk-toggleable__label {\n",
              "  background-color: var(--sklearn-color-fitted-level-2);\n",
              "}\n",
              "\n",
              "/* Estimator-specific style */\n",
              "\n",
              "/* Colorize estimator box */\n",
              "#sk-container-id-1 div.sk-estimator input.sk-toggleable__control:checked~label.sk-toggleable__label {\n",
              "  /* unfitted */\n",
              "  background-color: var(--sklearn-color-unfitted-level-2);\n",
              "}\n",
              "\n",
              "#sk-container-id-1 div.sk-estimator.fitted input.sk-toggleable__control:checked~label.sk-toggleable__label {\n",
              "  /* fitted */\n",
              "  background-color: var(--sklearn-color-fitted-level-2);\n",
              "}\n",
              "\n",
              "#sk-container-id-1 div.sk-label label.sk-toggleable__label,\n",
              "#sk-container-id-1 div.sk-label label {\n",
              "  /* The background is the default theme color */\n",
              "  color: var(--sklearn-color-text-on-default-background);\n",
              "}\n",
              "\n",
              "/* On hover, darken the color of the background */\n",
              "#sk-container-id-1 div.sk-label:hover label.sk-toggleable__label {\n",
              "  color: var(--sklearn-color-text);\n",
              "  background-color: var(--sklearn-color-unfitted-level-2);\n",
              "}\n",
              "\n",
              "/* Label box, darken color on hover, fitted */\n",
              "#sk-container-id-1 div.sk-label.fitted:hover label.sk-toggleable__label.fitted {\n",
              "  color: var(--sklearn-color-text);\n",
              "  background-color: var(--sklearn-color-fitted-level-2);\n",
              "}\n",
              "\n",
              "/* Estimator label */\n",
              "\n",
              "#sk-container-id-1 div.sk-label label {\n",
              "  font-family: monospace;\n",
              "  font-weight: bold;\n",
              "  display: inline-block;\n",
              "  line-height: 1.2em;\n",
              "}\n",
              "\n",
              "#sk-container-id-1 div.sk-label-container {\n",
              "  text-align: center;\n",
              "}\n",
              "\n",
              "/* Estimator-specific */\n",
              "#sk-container-id-1 div.sk-estimator {\n",
              "  font-family: monospace;\n",
              "  border: 1px dotted var(--sklearn-color-border-box);\n",
              "  border-radius: 0.25em;\n",
              "  box-sizing: border-box;\n",
              "  margin-bottom: 0.5em;\n",
              "  /* unfitted */\n",
              "  background-color: var(--sklearn-color-unfitted-level-0);\n",
              "}\n",
              "\n",
              "#sk-container-id-1 div.sk-estimator.fitted {\n",
              "  /* fitted */\n",
              "  background-color: var(--sklearn-color-fitted-level-0);\n",
              "}\n",
              "\n",
              "/* on hover */\n",
              "#sk-container-id-1 div.sk-estimator:hover {\n",
              "  /* unfitted */\n",
              "  background-color: var(--sklearn-color-unfitted-level-2);\n",
              "}\n",
              "\n",
              "#sk-container-id-1 div.sk-estimator.fitted:hover {\n",
              "  /* fitted */\n",
              "  background-color: var(--sklearn-color-fitted-level-2);\n",
              "}\n",
              "\n",
              "/* Specification for estimator info (e.g. \"i\" and \"?\") */\n",
              "\n",
              "/* Common style for \"i\" and \"?\" */\n",
              "\n",
              ".sk-estimator-doc-link,\n",
              "a:link.sk-estimator-doc-link,\n",
              "a:visited.sk-estimator-doc-link {\n",
              "  float: right;\n",
              "  font-size: smaller;\n",
              "  line-height: 1em;\n",
              "  font-family: monospace;\n",
              "  background-color: var(--sklearn-color-background);\n",
              "  border-radius: 1em;\n",
              "  height: 1em;\n",
              "  width: 1em;\n",
              "  text-decoration: none !important;\n",
              "  margin-left: 0.5em;\n",
              "  text-align: center;\n",
              "  /* unfitted */\n",
              "  border: var(--sklearn-color-unfitted-level-1) 1pt solid;\n",
              "  color: var(--sklearn-color-unfitted-level-1);\n",
              "}\n",
              "\n",
              ".sk-estimator-doc-link.fitted,\n",
              "a:link.sk-estimator-doc-link.fitted,\n",
              "a:visited.sk-estimator-doc-link.fitted {\n",
              "  /* fitted */\n",
              "  border: var(--sklearn-color-fitted-level-1) 1pt solid;\n",
              "  color: var(--sklearn-color-fitted-level-1);\n",
              "}\n",
              "\n",
              "/* On hover */\n",
              "div.sk-estimator:hover .sk-estimator-doc-link:hover,\n",
              ".sk-estimator-doc-link:hover,\n",
              "div.sk-label-container:hover .sk-estimator-doc-link:hover,\n",
              ".sk-estimator-doc-link:hover {\n",
              "  /* unfitted */\n",
              "  background-color: var(--sklearn-color-unfitted-level-3);\n",
              "  color: var(--sklearn-color-background);\n",
              "  text-decoration: none;\n",
              "}\n",
              "\n",
              "div.sk-estimator.fitted:hover .sk-estimator-doc-link.fitted:hover,\n",
              ".sk-estimator-doc-link.fitted:hover,\n",
              "div.sk-label-container:hover .sk-estimator-doc-link.fitted:hover,\n",
              ".sk-estimator-doc-link.fitted:hover {\n",
              "  /* fitted */\n",
              "  background-color: var(--sklearn-color-fitted-level-3);\n",
              "  color: var(--sklearn-color-background);\n",
              "  text-decoration: none;\n",
              "}\n",
              "\n",
              "/* Span, style for the box shown on hovering the info icon */\n",
              ".sk-estimator-doc-link span {\n",
              "  display: none;\n",
              "  z-index: 9999;\n",
              "  position: relative;\n",
              "  font-weight: normal;\n",
              "  right: .2ex;\n",
              "  padding: .5ex;\n",
              "  margin: .5ex;\n",
              "  width: min-content;\n",
              "  min-width: 20ex;\n",
              "  max-width: 50ex;\n",
              "  color: var(--sklearn-color-text);\n",
              "  box-shadow: 2pt 2pt 4pt #999;\n",
              "  /* unfitted */\n",
              "  background: var(--sklearn-color-unfitted-level-0);\n",
              "  border: .5pt solid var(--sklearn-color-unfitted-level-3);\n",
              "}\n",
              "\n",
              ".sk-estimator-doc-link.fitted span {\n",
              "  /* fitted */\n",
              "  background: var(--sklearn-color-fitted-level-0);\n",
              "  border: var(--sklearn-color-fitted-level-3);\n",
              "}\n",
              "\n",
              ".sk-estimator-doc-link:hover span {\n",
              "  display: block;\n",
              "}\n",
              "\n",
              "/* \"?\"-specific style due to the `<a>` HTML tag */\n",
              "\n",
              "#sk-container-id-1 a.estimator_doc_link {\n",
              "  float: right;\n",
              "  font-size: 1rem;\n",
              "  line-height: 1em;\n",
              "  font-family: monospace;\n",
              "  background-color: var(--sklearn-color-background);\n",
              "  border-radius: 1rem;\n",
              "  height: 1rem;\n",
              "  width: 1rem;\n",
              "  text-decoration: none;\n",
              "  /* unfitted */\n",
              "  color: var(--sklearn-color-unfitted-level-1);\n",
              "  border: var(--sklearn-color-unfitted-level-1) 1pt solid;\n",
              "}\n",
              "\n",
              "#sk-container-id-1 a.estimator_doc_link.fitted {\n",
              "  /* fitted */\n",
              "  border: var(--sklearn-color-fitted-level-1) 1pt solid;\n",
              "  color: var(--sklearn-color-fitted-level-1);\n",
              "}\n",
              "\n",
              "/* On hover */\n",
              "#sk-container-id-1 a.estimator_doc_link:hover {\n",
              "  /* unfitted */\n",
              "  background-color: var(--sklearn-color-unfitted-level-3);\n",
              "  color: var(--sklearn-color-background);\n",
              "  text-decoration: none;\n",
              "}\n",
              "\n",
              "#sk-container-id-1 a.estimator_doc_link.fitted:hover {\n",
              "  /* fitted */\n",
              "  background-color: var(--sklearn-color-fitted-level-3);\n",
              "}\n",
              "</style><div id=\"sk-container-id-1\" class=\"sk-top-container\"><div class=\"sk-text-repr-fallback\"><pre>BernoulliNB()</pre><b>In a Jupyter environment, please rerun this cell to show the HTML representation or trust the notebook. <br />On GitHub, the HTML representation is unable to render, please try loading this page with nbviewer.org.</b></div><div class=\"sk-container\" hidden><div class=\"sk-item\"><div class=\"sk-estimator fitted sk-toggleable\"><input class=\"sk-toggleable__control sk-hidden--visually\" id=\"sk-estimator-id-1\" type=\"checkbox\" checked><label for=\"sk-estimator-id-1\" class=\"sk-toggleable__label fitted sk-toggleable__label-arrow\"><div><div>BernoulliNB</div></div><div><a class=\"sk-estimator-doc-link fitted\" rel=\"noreferrer\" target=\"_blank\" href=\"https://scikit-learn.org/1.6/modules/generated/sklearn.naive_bayes.BernoulliNB.html\">?<span>Documentation for BernoulliNB</span></a><span class=\"sk-estimator-doc-link fitted\">i<span>Fitted</span></span></div></label><div class=\"sk-toggleable__content fitted\"><pre>BernoulliNB()</pre></div> </div></div></div></div>"
            ]
          },
          "metadata": {},
          "execution_count": 68
        }
      ],
      "source": [
        "Bnb=BernoulliNB()\n",
        "Bnb.fit(X_train,Y_train)"
      ]
    },
    {
      "cell_type": "code",
      "execution_count": null,
      "metadata": {
        "colab": {
          "base_uri": "https://localhost:8080/"
        },
        "id": "JnWH6yKOKoGg",
        "outputId": "24d0bccf-c650-48e0-b41c-2246967f2cf7"
      },
      "outputs": [
        {
          "output_type": "execute_result",
          "data": {
            "text/plain": [
              "0.55"
            ]
          },
          "metadata": {},
          "execution_count": 73
        }
      ],
      "source": [
        "from sklearn.tree import DecisionTreeClassifier\n",
        "dtc=DecisionTreeClassifier()\n",
        "dtc.fit(X_train,Y_train)\n",
        "dtc.score(X_test,Y_test)"
      ]
    }
  ],
  "metadata": {
    "colab": {
      "provenance": [],
      "mount_file_id": "1jYSQXSSG_bgjQaMSQu-Zsjd_bgvJbUdb",
      "authorship_tag": "ABX9TyMhEZkBpiZ0fFOOavdgNYr9",
      "include_colab_link": true
    },
    "kernelspec": {
      "display_name": "Python 3",
      "name": "python3"
    },
    "language_info": {
      "name": "python"
    }
  },
  "nbformat": 4,
  "nbformat_minor": 0
}